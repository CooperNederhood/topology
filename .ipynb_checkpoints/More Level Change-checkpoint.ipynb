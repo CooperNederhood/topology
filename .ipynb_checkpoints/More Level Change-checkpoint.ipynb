{
 "cells": [
  {
   "cell_type": "code",
   "execution_count": 24,
   "metadata": {
    "collapsed": true
   },
   "outputs": [],
   "source": [
    "%matplotlib inline\n",
    "import mpld3\n",
    "mpld3.enable_notebook()\n",
    "\n",
    "\n",
    "from collections import defaultdict\n",
    "from pylab import rcParams\n",
    "rcParams['figure.figsize'] = 8, 6\n",
    "import my_graph_helpers as mgh\n",
    "import my_graph as mg\n",
    "import numpy as np\n",
    "import networkx as nx\n",
    "\n",
    "import itertools"
   ]
  },
  {
   "cell_type": "code",
   "execution_count": 69,
   "metadata": {
    "collapsed": false
   },
   "outputs": [
    {
     "data": {
      "text/plain": [
       "<module 'my_graph_helpers' from 'my_graph_helpers.pyc'>"
      ]
     },
     "execution_count": 69,
     "metadata": {},
     "output_type": "execute_result"
    }
   ],
   "source": [
    "reload(mg)\n",
    "reload(mgh)"
   ]
  },
  {
   "cell_type": "code",
   "execution_count": 70,
   "metadata": {
    "collapsed": true
   },
   "outputs": [],
   "source": [
    "##Lattice Graph, Simple:\n",
    "simpleG = mgh.testGraphLattice(9)\n",
    "simpleG.name = \"L0\"\n",
    "simpleduals= simpleG.stacked_duals()\n"
   ]
  },
  {
   "cell_type": "code",
   "execution_count": 56,
   "metadata": {
    "collapsed": true
   },
   "outputs": [],
   "source": [
    "## Lattice Graph, Complicated:\n",
    "G1 = mgh.testGraphLattice(9)\n",
    "G1.name = \"S0\"\n",
    "\n",
    "G2 = mgh.testGraphLattice(11,xshift=10,yshift=0)\n",
    "G3 = mgh.testGraphLattice(3,xshift=8,yshift=2)\n",
    "G4 = mg.MyGraph(nx.compose_all([G1.G, G2.G, G3.G]))\n",
    "\n",
    "lat = G4.clean_up_geometry(0.5, connected=True)\n",
    "\n",
    "latduals = lat.stacked_duals()"
   ]
  },
  {
   "cell_type": "code",
   "execution_count": 73,
   "metadata": {
    "collapsed": false
   },
   "outputs": [
    {
     "name": "stdout",
     "output_type": "stream",
     "text": [
      "data loaded\n"
     ]
    }
   ],
   "source": [
    "## Capetown:\n",
    "filename = \"data/CapeTown\"\n",
    "place = \"cape\"\n",
    "erezero = np.array([305680, 8022350])\n",
    "crezero= np.array([-31900, -3766370])\n",
    "original = mgh.import_and_setup(0, filename, rezero=crezero,\n",
    "                                threshold=1, connected=False,\n",
    "                                name=place+\"_S0\")\n",
    "\n",
    "cape = original.copy()\n",
    "capeduals = cape.stacked_duals()"
   ]
  },
  {
   "cell_type": "code",
   "execution_count": 78,
   "metadata": {
    "collapsed": false
   },
   "outputs": [],
   "source": [
    "## CHOOSE GRAPH:\n",
    "myG = cape\n",
    "duals = capeduals\n"
   ]
  },
  {
   "cell_type": "code",
   "execution_count": null,
   "metadata": {
    "collapsed": false
   },
   "outputs": [],
   "source": []
  },
  {
   "cell_type": "code",
   "execution_count": 76,
   "metadata": {
    "collapsed": false
   },
   "outputs": [
    {
     "name": "stdout",
     "output_type": "stream",
     "text": [
      "Graph S1 has 538 parcels\n",
      "Graph S3 has 389 parcels\n",
      "current depth 4 just finished\n",
      "Graph S5 has 227 parcels\n",
      "current depth 6 just finished\n",
      "Graph S7 has 102 parcels\n",
      "current depth 8 just finished\n",
      "Graph S9 has 33 parcels\n",
      "current depth 10 just finished\n",
      "Graph S11 has 4 parcels\n",
      "current depth 12 just finished\n"
     ]
    }
   ],
   "source": [
    "result, depth = mgh.form_equivalence_classes(myG)"
   ]
  },
  {
   "cell_type": "code",
   "execution_count": 59,
   "metadata": {
    "collapsed": false,
    "scrolled": true
   },
   "outputs": [
    {
     "data": {
      "text/plain": [
       "[]"
      ]
     },
     "execution_count": 59,
     "metadata": {},
     "output_type": "execute_result"
    }
   ],
   "source": []
  },
  {
   "cell_type": "code",
   "execution_count": null,
   "metadata": {
    "collapsed": false
   },
   "outputs": [],
   "source": []
  },
  {
   "cell_type": "code",
   "execution_count": null,
   "metadata": {
    "collapsed": true
   },
   "outputs": [],
   "source": []
  }
 ],
 "metadata": {
  "kernelspec": {
   "display_name": "Python 2",
   "language": "python",
   "name": "python2"
  },
  "language_info": {
   "codemirror_mode": {
    "name": "ipython",
    "version": 2
   },
   "file_extension": ".py",
   "mimetype": "text/x-python",
   "name": "python",
   "nbconvert_exporter": "python",
   "pygments_lexer": "ipython2",
   "version": "2.7.9"
  }
 },
 "nbformat": 4,
 "nbformat_minor": 0
}
