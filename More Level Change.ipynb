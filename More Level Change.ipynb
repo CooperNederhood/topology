{
 "cells": [
  {
   "cell_type": "code",
   "execution_count": 91,
   "metadata": {
    "collapsed": true
   },
   "outputs": [],
   "source": [
    "%matplotlib inline\n",
    "import mpld3\n",
    "mpld3.enable_notebook()\n",
    "\n",
    "\n",
    "from collections import defaultdict\n",
    "from pylab import rcParams\n",
    "rcParams['figure.figsize'] = 8, 6\n",
    "import my_graph_helpers as mgh\n",
    "import my_graph as mg\n",
    "import numpy as np\n",
    "import networkx as nx\n",
    "\n",
    "import itertools"
   ]
  },
  {
   "cell_type": "code",
   "execution_count": 212,
   "metadata": {
    "collapsed": false
   },
   "outputs": [
    {
     "data": {
      "text/plain": [
       "<module 'my_graph_helpers' from 'my_graph_helpers.pyc'>"
      ]
     },
     "execution_count": 212,
     "metadata": {},
     "output_type": "execute_result"
    }
   ],
   "source": [
    "reload(mg)\n",
    "reload(mgh)"
   ]
  },
  {
   "cell_type": "code",
   "execution_count": 219,
   "metadata": {
    "collapsed": false
   },
   "outputs": [],
   "source": [
    "##Lattice Graph, Simple:\n",
    "simpleG = mgh.testGraphLattice(7, xshift = 2)\n",
    "simpleG.name = \"L0\"\n",
    "#simpleduals= simpleG.stacked_duals()\n",
    "\n"
   ]
  },
  {
   "cell_type": "code",
   "execution_count": 220,
   "metadata": {
    "collapsed": false
   },
   "outputs": [
    {
     "name": "stdout",
     "output_type": "stream",
     "text": [
      "24\n",
      "24\n"
     ]
    },
    {
     "data": {
      "image/png": "[encoded data removed]",
      "text/html": [
       "\n",
       "\n",
       "<style>\n",
       "\n",
       "</style>\n",
       "\n",
       "<div id=\"fig_el983944601718562279580994\"></div>\n",
       "<script>\n",
       "function mpld3_load_lib(url, callback){\n",
       "  var s = document.createElement('script');\n",
       "  s.src = url;\n",
       "  s.async = true;\n",
       "  s.onreadystatechange = s.onload = callback;\n",
       "  s.onerror = function(){console.warn(\"failed to load library \" + url);};\n",
       "  document.getElementsByTagName(\"head\")[0].appendChild(s);\n",
       "}\n",
       "\n",
       "if(typeof(mpld3) !== \"undefined\" && mpld3._mpld3IsLoaded){\n",
       "   // already loaded: just create the figure\n",
       "   !function(mpld3){\n",
       "       \n",
       "       mpld3.draw_figure(\"fig_el983944601718562279580994\", {\"axes\": [{\"xlim\": [1.0, 9.0], \"yscale\": \"linear\", \"axesbg\": \"none\", \"texts\": [], \"zoomable\": true, \"images\": [], \"xdomain\": [1.0, 9.0], \"ylim\": [-1.0, 7.0], \"paths\": [], \"sharey\": [], \"sharex\": [], \"axesbgalpha\": null, \"axes\": [{\"scale\": \"linear\", \"tickformat\": null, \"grid\": {\"gridOn\": false}, \"fontsize\": 10.0, \"position\": \"bottom\", \"nticks\": 9, \"tickvalues\": null}, {\"scale\": \"linear\", \"tickformat\": null, \"grid\": {\"gridOn\": false}, \"fontsize\": 10.0, \"position\": \"left\", \"nticks\": 9, \"tickvalues\": null}], \"lines\": [], \"markers\": [], \"id\": \"el98394460129680\", \"ydomain\": [-1.0, 7.0], \"collections\": [{\"paths\": [[[[7.0, 3.0], [6.0, 3.0]], [\"M\", \"L\"]], [[[7.0, 3.0], [7.0, 4.0]], [\"M\", \"L\"]], [[[7.0, 3.0], [8.0, 3.0]], [\"M\", \"L\"]], [[[7.0, 3.0], [7.0, 2.0]], [\"M\", \"L\"]], [[[6.0, 6.0], [5.0, 6.0]], [\"M\", \"L\"]], [[[6.0, 6.0], [7.0, 6.0]], [\"M\", \"L\"]], [[[6.0, 6.0], [6.0, 5.0]], [\"M\", \"L\"]], [[[5.0, 6.0], [4.0, 6.0]], [\"M\", \"L\"]], [[[5.0, 6.0], [5.0, 5.0]], [\"M\", \"L\"]], [[[8.0, 0.0], [8.0, 1.0]], [\"M\", \"L\"]], [[[8.0, 0.0], [7.0, 0.0]], [\"M\", \"L\"]], [[[5.0, 4.0], [6.0, 4.0]], [\"M\", \"L\"]], [[[5.0, 4.0], [4.0, 4.0]], [\"M\", \"L\"]], [[[5.0, 4.0], [5.0, 5.0]], [\"M\", \"L\"]], [[[5.0, 4.0], [5.0, 3.0]], [\"M\", \"L\"]], [[[2.0, 1.0], [2.0, 0.0]], [\"M\", \"L\"]], [[[2.0, 1.0], [3.0, 1.0]], [\"M\", \"L\"]], [[[2.0, 1.0], [2.0, 2.0]], [\"M\", \"L\"]], [[[6.0, 2.0], [6.0, 3.0]], [\"M\", \"L\"]], [[[6.0, 2.0], [6.0, 1.0]], [\"M\", \"L\"]], [[[6.0, 2.0], [5.0, 2.0]], [\"M\", \"L\"]], [[[6.0, 2.0], [7.0, 2.0]], [\"M\", \"L\"]], [[[5.0, 1.0], [4.0, 1.0]], [\"M\", \"L\"]], [[[5.0, 1.0], [6.0, 1.0]], [\"M\", \"L\"]], [[[5.0, 1.0], [5.0, 2.0]], [\"M\", \"L\"]], [[[5.0, 1.0], [5.0, 0.0]], [\"M\", \"L\"]], [[[2.0, 5.0], [2.0, 6.0]], [\"M\", \"L\"]], [[[2.0, 5.0], [2.0, 4.0]], [\"M\", \"L\"]], [[[2.0, 5.0], [3.0, 5.0]], [\"M\", \"L\"]], [[[8.0, 5.0], [8.0, 6.0]], [\"M\", \"L\"]], [[[8.0, 5.0], [7.0, 5.0]], [\"M\", \"L\"]], [[[8.0, 5.0], [8.0, 4.0]], [\"M\", \"L\"]], [[[7.0, 2.0], [8.0, 2.0]], [\"M\", \"L\"]], [[[7.0, 2.0], [7.0, 1.0]], [\"M\", \"L\"]], [[[4.0, 0.0], [3.0, 0.0]], [\"M\", \"L\"]], [[[4.0, 0.0], [4.0, 1.0]], [\"M\", \"L\"]], [[[4.0, 0.0], [5.0, 0.0]], [\"M\", \"L\"]], [[[5.0, 5.0], [4.0, 5.0]], [\"M\", \"L\"]], [[[5.0, 5.0], [6.0, 5.0]], [\"M\", \"L\"]], [[[8.0, 1.0], [8.0, 2.0]], [\"M\", \"L\"]], [[[8.0, 1.0], [7.0, 1.0]], [\"M\", \"L\"]], [[[7.0, 6.0], [8.0, 6.0]], [\"M\", \"L\"]], [[[7.0, 6.0], [7.0, 5.0]], [\"M\", \"L\"]], [[[4.0, 4.0], [4.0, 5.0]], [\"M\", \"L\"]], [[[4.0, 4.0], [3.0, 4.0]], [\"M\", \"L\"]], [[[4.0, 4.0], [4.0, 3.0]], [\"M\", \"L\"]], [[[6.0, 3.0], [5.0, 3.0]], [\"M\", \"L\"]], [[[6.0, 3.0], [6.0, 4.0]], [\"M\", \"L\"]], [[[3.0, 0.0], [2.0, 0.0]], [\"M\", \"L\"]], [[[3.0, 0.0], [3.0, 1.0]], [\"M\", \"L\"]], [[[5.0, 0.0], [6.0, 0.0]], [\"M\", \"L\"]], [[[2.0, 2.0], [3.0, 2.0]], [\"M\", \"L\"]], [[[2.0, 2.0], [2.0, 3.0]], [\"M\", \"L\"]], [[[3.0, 5.0], [4.0, 5.0]], [\"M\", \"L\"]], [[[3.0, 5.0], [3.0, 4.0]], [\"M\", \"L\"]], [[[3.0, 5.0], [3.0, 6.0]], [\"M\", \"L\"]], [[[4.0, 1.0], [3.0, 1.0]], [\"M\", \"L\"]], [[[4.0, 1.0], [4.0, 2.0]], [\"M\", \"L\"]], [[[6.0, 4.0], [7.0, 4.0]], [\"M\", \"L\"]], [[[6.0, 4.0], [6.0, 5.0]], [\"M\", \"L\"]], [[[3.0, 2.0], [4.0, 2.0]], [\"M\", \"L\"]], [[[3.0, 2.0], [3.0, 1.0]], [\"M\", \"L\"]], [[[3.0, 2.0], [3.0, 3.0]], [\"M\", \"L\"]], [[[2.0, 6.0], [3.0, 6.0]], [\"M\", \"L\"]], [[[8.0, 2.0], [8.0, 3.0]], [\"M\", \"L\"]], [[[7.0, 1.0], [6.0, 1.0]], [\"M\", \"L\"]], [[[7.0, 1.0], [7.0, 0.0]], [\"M\", \"L\"]], [[[4.0, 5.0], [4.0, 6.0]], [\"M\", \"L\"]], [[[6.0, 0.0], [6.0, 1.0]], [\"M\", \"L\"]], [[[6.0, 0.0], [7.0, 0.0]], [\"M\", \"L\"]], [[[7.0, 5.0], [7.0, 4.0]], [\"M\", \"L\"]], [[[7.0, 5.0], [6.0, 5.0]], [\"M\", \"L\"]], [[[2.0, 3.0], [2.0, 4.0]], [\"M\", \"L\"]], [[[2.0, 3.0], [3.0, 3.0]], [\"M\", \"L\"]], [[[4.0, 2.0], [5.0, 2.0]], [\"M\", \"L\"]], [[[4.0, 2.0], [4.0, 3.0]], [\"M\", \"L\"]], [[[3.0, 3.0], [3.0, 4.0]], [\"M\", \"L\"]], [[[3.0, 3.0], [4.0, 3.0]], [\"M\", \"L\"]], [[[5.0, 3.0], [5.0, 2.0]], [\"M\", \"L\"]], [[[5.0, 3.0], [4.0, 3.0]], [\"M\", \"L\"]], [[[4.0, 6.0], [3.0, 6.0]], [\"M\", \"L\"]], [[[7.0, 4.0], [8.0, 4.0]], [\"M\", \"L\"]], [[[8.0, 3.0], [8.0, 4.0]], [\"M\", \"L\"]], [[[3.0, 4.0], [2.0, 4.0]], [\"M\", \"L\"]]], \"edgecolors\": [\"#000000\", \"#000000\", \"#000000\", \"#000000\", \"#0000FF\", \"#0000FF\", \"#000000\", \"#0000FF\", \"#000000\", \"#0000FF\", \"#0000FF\", \"#000000\", \"#000000\", \"#000000\", \"#000000\", \"#0000FF\", \"#000000\", \"#0000FF\", \"#000000\", \"#000000\", \"#000000\", \"#000000\", \"#000000\", \"#000000\", \"#000000\", \"#000000\", \"#0000FF\", \"#0000FF\", \"#000000\", \"#0000FF\", \"#000000\", \"#0000FF\", \"#000000\", \"#000000\", \"#0000FF\", \"#000000\", \"#0000FF\", \"#000000\", \"#000000\", \"#0000FF\", \"#000000\", \"#0000FF\", \"#000000\", \"#000000\", \"#000000\", \"#000000\", \"#000000\", \"#000000\", \"#0000FF\", \"#000000\", \"#0000FF\", \"#000000\", \"#0000FF\", \"#000000\", \"#000000\", \"#000000\", \"#000000\", \"#000000\", \"#000000\", \"#000000\", \"#000000\", \"#000000\", \"#000000\", \"#0000FF\", \"#0000FF\", \"#000000\", \"#000000\", \"#000000\", \"#000000\", \"#0000FF\", \"#000000\", \"#000000\", \"#0000FF\", \"#000000\", \"#000000\", \"#000000\", \"#000000\", \"#000000\", \"#000000\", \"#000000\", \"#0000FF\", \"#000000\", \"#0000FF\", \"#000000\"], \"edgewidths\": [1, 1, 1, 1, 4, 4, 1, 4, 1, 4, 4, 1, 1, 1, 1, 4, 1, 4, 1, 1, 1, 1, 1, 1, 1, 1, 4, 4, 1, 4, 1, 4, 1, 1, 4, 1, 4, 1, 1, 4, 1, 4, 1, 1, 1, 1, 1, 1, 4, 1, 4, 1, 4, 1, 1, 1, 1, 1, 1, 1, 1, 1, 1, 4, 4, 1, 1, 1, 1, 4, 1, 1, 4, 1, 1, 1, 1, 1, 1, 1, 4, 1, 4, 1], \"offsets\": \"data01\", \"yindex\": 1, \"id\": \"el98394456019856\", \"pathtransforms\": [], \"pathcoordinates\": \"data\", \"offsetcoordinates\": \"display\", \"zorder\": 1, \"xindex\": 0, \"alphas\": [null], \"facecolors\": []}, {\"paths\": [[[[7.0, 3.0], [6.0, 3.0]], [\"M\", \"L\"]], [[[7.0, 3.0], [7.0, 4.0]], [\"M\", \"L\"]], [[[7.0, 3.0], [7.0, 2.0]], [\"M\", \"L\"]], [[[3.0, 2.0], [4.0, 2.0]], [\"M\", \"L\"]], [[[3.0, 2.0], [3.0, 1.0]], [\"M\", \"L\"]], [[[3.0, 2.0], [3.0, 3.0]], [\"M\", \"L\"]], [[[6.0, 2.0], [6.0, 3.0]], [\"M\", \"L\"]], [[[6.0, 2.0], [6.0, 1.0]], [\"M\", \"L\"]], [[[6.0, 2.0], [5.0, 2.0]], [\"M\", \"L\"]], [[[6.0, 2.0], [7.0, 2.0]], [\"M\", \"L\"]], [[[5.0, 1.0], [5.0, 2.0]], [\"M\", \"L\"]], [[[5.0, 1.0], [6.0, 1.0]], [\"M\", \"L\"]], [[[5.0, 1.0], [4.0, 1.0]], [\"M\", \"L\"]], [[[7.0, 2.0], [7.0, 1.0]], [\"M\", \"L\"]], [[[5.0, 5.0], [4.0, 5.0]], [\"M\", \"L\"]], [[[5.0, 5.0], [5.0, 4.0]], [\"M\", \"L\"]], [[[5.0, 5.0], [6.0, 5.0]], [\"M\", \"L\"]], [[[4.0, 4.0], [4.0, 5.0]], [\"M\", \"L\"]], [[[4.0, 4.0], [5.0, 4.0]], [\"M\", \"L\"]], [[[4.0, 4.0], [3.0, 4.0]], [\"M\", \"L\"]], [[[4.0, 4.0], [4.0, 3.0]], [\"M\", \"L\"]], [[[6.0, 3.0], [6.0, 4.0]], [\"M\", \"L\"]], [[[6.0, 3.0], [5.0, 3.0]], [\"M\", \"L\"]], [[[3.0, 3.0], [3.0, 4.0]], [\"M\", \"L\"]], [[[3.0, 3.0], [4.0, 3.0]], [\"M\", \"L\"]], [[[5.0, 3.0], [5.0, 4.0]], [\"M\", \"L\"]], [[[5.0, 3.0], [5.0, 2.0]], [\"M\", \"L\"]], [[[5.0, 3.0], [4.0, 3.0]], [\"M\", \"L\"]], [[[4.0, 1.0], [3.0, 1.0]], [\"M\", \"L\"]], [[[4.0, 1.0], [4.0, 2.0]], [\"M\", \"L\"]], [[[6.0, 4.0], [7.0, 4.0]], [\"M\", \"L\"]], [[[6.0, 4.0], [5.0, 4.0]], [\"M\", \"L\"]], [[[6.0, 4.0], [6.0, 5.0]], [\"M\", \"L\"]], [[[7.0, 1.0], [6.0, 1.0]], [\"M\", \"L\"]], [[[4.0, 5.0], [3.0, 5.0]], [\"M\", \"L\"]], [[[7.0, 5.0], [7.0, 4.0]], [\"M\", \"L\"]], [[[7.0, 5.0], [6.0, 5.0]], [\"M\", \"L\"]], [[[4.0, 2.0], [5.0, 2.0]], [\"M\", \"L\"]], [[[4.0, 2.0], [4.0, 3.0]], [\"M\", \"L\"]], [[[3.0, 5.0], [3.0, 4.0]], [\"M\", \"L\"]]], \"edgecolors\": [\"#FF0000\"], \"edgewidths\": [4], \"offsets\": \"data01\", \"yindex\": 0, \"id\": \"el98394488363280\", \"pathtransforms\": [], \"pathcoordinates\": \"data\", \"offsetcoordinates\": \"display\", \"zorder\": 1, \"xindex\": 0, \"alphas\": [null], \"facecolors\": []}], \"xscale\": \"linear\", \"bbox\": [0.22187499999999999, 0.125, 0.58125000000000004, 0.77500000000000002]}], \"height\": 480.0, \"width\": 640.0, \"plugins\": [{\"type\": \"reset\"}, {\"enabled\": false, \"button\": true, \"type\": \"zoom\"}, {\"enabled\": false, \"button\": true, \"type\": \"boxzoom\"}], \"data\": {\"data01\": [[0.0, 0.0]]}, \"id\": \"el98394460171856\"});\n",
       "   }(mpld3);\n",
       "}else if(typeof define === \"function\" && define.amd){\n",
       "   // require.js is available: use it to load d3/mpld3\n",
       "   require.config({paths: {d3: \"https://mpld3.github.io/js/d3.v3.min\"}});\n",
       "   require([\"d3\"], function(d3){\n",
       "      window.d3 = d3;\n",
       "      mpld3_load_lib(\"https://mpld3.github.io/js/mpld3.v0.2.js\", function(){\n",
       "         \n",
       "         mpld3.draw_figure(\"fig_el983944601718562279580994\", {\"axes\": [{\"xlim\": [1.0, 9.0], \"yscale\": \"linear\", \"axesbg\": \"none\", \"texts\": [], \"zoomable\": true, \"images\": [], \"xdomain\": [1.0, 9.0], \"ylim\": [-1.0, 7.0], \"paths\": [], \"sharey\": [], \"sharex\": [], \"axesbgalpha\": null, \"axes\": [{\"scale\": \"linear\", \"tickformat\": null, \"grid\": {\"gridOn\": false}, \"fontsize\": 10.0, \"position\": \"bottom\", \"nticks\": 9, \"tickvalues\": null}, {\"scale\": \"linear\", \"tickformat\": null, \"grid\": {\"gridOn\": false}, \"fontsize\": 10.0, \"position\": \"left\", \"nticks\": 9, \"tickvalues\": null}], \"lines\": [], \"markers\": [], \"id\": \"el98394460129680\", \"ydomain\": [-1.0, 7.0], \"collections\": [{\"paths\": [[[[7.0, 3.0], [6.0, 3.0]], [\"M\", \"L\"]], [[[7.0, 3.0], [7.0, 4.0]], [\"M\", \"L\"]], [[[7.0, 3.0], [8.0, 3.0]], [\"M\", \"L\"]], [[[7.0, 3.0], [7.0, 2.0]], [\"M\", \"L\"]], [[[6.0, 6.0], [5.0, 6.0]], [\"M\", \"L\"]], [[[6.0, 6.0], [7.0, 6.0]], [\"M\", \"L\"]], [[[6.0, 6.0], [6.0, 5.0]], [\"M\", \"L\"]], [[[5.0, 6.0], [4.0, 6.0]], [\"M\", \"L\"]], [[[5.0, 6.0], [5.0, 5.0]], [\"M\", \"L\"]], [[[8.0, 0.0], [8.0, 1.0]], [\"M\", \"L\"]], [[[8.0, 0.0], [7.0, 0.0]], [\"M\", \"L\"]], [[[5.0, 4.0], [6.0, 4.0]], [\"M\", \"L\"]], [[[5.0, 4.0], [4.0, 4.0]], [\"M\", \"L\"]], [[[5.0, 4.0], [5.0, 5.0]], [\"M\", \"L\"]], [[[5.0, 4.0], [5.0, 3.0]], [\"M\", \"L\"]], [[[2.0, 1.0], [2.0, 0.0]], [\"M\", \"L\"]], [[[2.0, 1.0], [3.0, 1.0]], [\"M\", \"L\"]], [[[2.0, 1.0], [2.0, 2.0]], [\"M\", \"L\"]], [[[6.0, 2.0], [6.0, 3.0]], [\"M\", \"L\"]], [[[6.0, 2.0], [6.0, 1.0]], [\"M\", \"L\"]], [[[6.0, 2.0], [5.0, 2.0]], [\"M\", \"L\"]], [[[6.0, 2.0], [7.0, 2.0]], [\"M\", \"L\"]], [[[5.0, 1.0], [4.0, 1.0]], [\"M\", \"L\"]], [[[5.0, 1.0], [6.0, 1.0]], [\"M\", \"L\"]], [[[5.0, 1.0], [5.0, 2.0]], [\"M\", \"L\"]], [[[5.0, 1.0], [5.0, 0.0]], [\"M\", \"L\"]], [[[2.0, 5.0], [2.0, 6.0]], [\"M\", \"L\"]], [[[2.0, 5.0], [2.0, 4.0]], [\"M\", \"L\"]], [[[2.0, 5.0], [3.0, 5.0]], [\"M\", \"L\"]], [[[8.0, 5.0], [8.0, 6.0]], [\"M\", \"L\"]], [[[8.0, 5.0], [7.0, 5.0]], [\"M\", \"L\"]], [[[8.0, 5.0], [8.0, 4.0]], [\"M\", \"L\"]], [[[7.0, 2.0], [8.0, 2.0]], [\"M\", \"L\"]], [[[7.0, 2.0], [7.0, 1.0]], [\"M\", \"L\"]], [[[4.0, 0.0], [3.0, 0.0]], [\"M\", \"L\"]], [[[4.0, 0.0], [4.0, 1.0]], [\"M\", \"L\"]], [[[4.0, 0.0], [5.0, 0.0]], [\"M\", \"L\"]], [[[5.0, 5.0], [4.0, 5.0]], [\"M\", \"L\"]], [[[5.0, 5.0], [6.0, 5.0]], [\"M\", \"L\"]], [[[8.0, 1.0], [8.0, 2.0]], [\"M\", \"L\"]], [[[8.0, 1.0], [7.0, 1.0]], [\"M\", \"L\"]], [[[7.0, 6.0], [8.0, 6.0]], [\"M\", \"L\"]], [[[7.0, 6.0], [7.0, 5.0]], [\"M\", \"L\"]], [[[4.0, 4.0], [4.0, 5.0]], [\"M\", \"L\"]], [[[4.0, 4.0], [3.0, 4.0]], [\"M\", \"L\"]], [[[4.0, 4.0], [4.0, 3.0]], [\"M\", \"L\"]], [[[6.0, 3.0], [5.0, 3.0]], [\"M\", \"L\"]], [[[6.0, 3.0], [6.0, 4.0]], [\"M\", \"L\"]], [[[3.0, 0.0], [2.0, 0.0]], [\"M\", \"L\"]], [[[3.0, 0.0], [3.0, 1.0]], [\"M\", \"L\"]], [[[5.0, 0.0], [6.0, 0.0]], [\"M\", \"L\"]], [[[2.0, 2.0], [3.0, 2.0]], [\"M\", \"L\"]], [[[2.0, 2.0], [2.0, 3.0]], [\"M\", \"L\"]], [[[3.0, 5.0], [4.0, 5.0]], [\"M\", \"L\"]], [[[3.0, 5.0], [3.0, 4.0]], [\"M\", \"L\"]], [[[3.0, 5.0], [3.0, 6.0]], [\"M\", \"L\"]], [[[4.0, 1.0], [3.0, 1.0]], [\"M\", \"L\"]], [[[4.0, 1.0], [4.0, 2.0]], [\"M\", \"L\"]], [[[6.0, 4.0], [7.0, 4.0]], [\"M\", \"L\"]], [[[6.0, 4.0], [6.0, 5.0]], [\"M\", \"L\"]], [[[3.0, 2.0], [4.0, 2.0]], [\"M\", \"L\"]], [[[3.0, 2.0], [3.0, 1.0]], [\"M\", \"L\"]], [[[3.0, 2.0], [3.0, 3.0]], [\"M\", \"L\"]], [[[2.0, 6.0], [3.0, 6.0]], [\"M\", \"L\"]], [[[8.0, 2.0], [8.0, 3.0]], [\"M\", \"L\"]], [[[7.0, 1.0], [6.0, 1.0]], [\"M\", \"L\"]], [[[7.0, 1.0], [7.0, 0.0]], [\"M\", \"L\"]], [[[4.0, 5.0], [4.0, 6.0]], [\"M\", \"L\"]], [[[6.0, 0.0], [6.0, 1.0]], [\"M\", \"L\"]], [[[6.0, 0.0], [7.0, 0.0]], [\"M\", \"L\"]], [[[7.0, 5.0], [7.0, 4.0]], [\"M\", \"L\"]], [[[7.0, 5.0], [6.0, 5.0]], [\"M\", \"L\"]], [[[2.0, 3.0], [2.0, 4.0]], [\"M\", \"L\"]], [[[2.0, 3.0], [3.0, 3.0]], [\"M\", \"L\"]], [[[4.0, 2.0], [5.0, 2.0]], [\"M\", \"L\"]], [[[4.0, 2.0], [4.0, 3.0]], [\"M\", \"L\"]], [[[3.0, 3.0], [3.0, 4.0]], [\"M\", \"L\"]], [[[3.0, 3.0], [4.0, 3.0]], [\"M\", \"L\"]], [[[5.0, 3.0], [5.0, 2.0]], [\"M\", \"L\"]], [[[5.0, 3.0], [4.0, 3.0]], [\"M\", \"L\"]], [[[4.0, 6.0], [3.0, 6.0]], [\"M\", \"L\"]], [[[7.0, 4.0], [8.0, 4.0]], [\"M\", \"L\"]], [[[8.0, 3.0], [8.0, 4.0]], [\"M\", \"L\"]], [[[3.0, 4.0], [2.0, 4.0]], [\"M\", \"L\"]]], \"edgecolors\": [\"#000000\", \"#000000\", \"#000000\", \"#000000\", \"#0000FF\", \"#0000FF\", \"#000000\", \"#0000FF\", \"#000000\", \"#0000FF\", \"#0000FF\", \"#000000\", \"#000000\", \"#000000\", \"#000000\", \"#0000FF\", \"#000000\", \"#0000FF\", \"#000000\", \"#000000\", \"#000000\", \"#000000\", \"#000000\", \"#000000\", \"#000000\", \"#000000\", \"#0000FF\", \"#0000FF\", \"#000000\", \"#0000FF\", \"#000000\", \"#0000FF\", \"#000000\", \"#000000\", \"#0000FF\", \"#000000\", \"#0000FF\", \"#000000\", \"#000000\", \"#0000FF\", \"#000000\", \"#0000FF\", \"#000000\", \"#000000\", \"#000000\", \"#000000\", \"#000000\", \"#000000\", \"#0000FF\", \"#000000\", \"#0000FF\", \"#000000\", \"#0000FF\", \"#000000\", \"#000000\", \"#000000\", \"#000000\", \"#000000\", \"#000000\", \"#000000\", \"#000000\", \"#000000\", \"#000000\", \"#0000FF\", \"#0000FF\", \"#000000\", \"#000000\", \"#000000\", \"#000000\", \"#0000FF\", \"#000000\", \"#000000\", \"#0000FF\", \"#000000\", \"#000000\", \"#000000\", \"#000000\", \"#000000\", \"#000000\", \"#000000\", \"#0000FF\", \"#000000\", \"#0000FF\", \"#000000\"], \"edgewidths\": [1, 1, 1, 1, 4, 4, 1, 4, 1, 4, 4, 1, 1, 1, 1, 4, 1, 4, 1, 1, 1, 1, 1, 1, 1, 1, 4, 4, 1, 4, 1, 4, 1, 1, 4, 1, 4, 1, 1, 4, 1, 4, 1, 1, 1, 1, 1, 1, 4, 1, 4, 1, 4, 1, 1, 1, 1, 1, 1, 1, 1, 1, 1, 4, 4, 1, 1, 1, 1, 4, 1, 1, 4, 1, 1, 1, 1, 1, 1, 1, 4, 1, 4, 1], \"offsets\": \"data01\", \"yindex\": 1, \"id\": \"el98394456019856\", \"pathtransforms\": [], \"pathcoordinates\": \"data\", \"offsetcoordinates\": \"display\", \"zorder\": 1, \"xindex\": 0, \"alphas\": [null], \"facecolors\": []}, {\"paths\": [[[[7.0, 3.0], [6.0, 3.0]], [\"M\", \"L\"]], [[[7.0, 3.0], [7.0, 4.0]], [\"M\", \"L\"]], [[[7.0, 3.0], [7.0, 2.0]], [\"M\", \"L\"]], [[[3.0, 2.0], [4.0, 2.0]], [\"M\", \"L\"]], [[[3.0, 2.0], [3.0, 1.0]], [\"M\", \"L\"]], [[[3.0, 2.0], [3.0, 3.0]], [\"M\", \"L\"]], [[[6.0, 2.0], [6.0, 3.0]], [\"M\", \"L\"]], [[[6.0, 2.0], [6.0, 1.0]], [\"M\", \"L\"]], [[[6.0, 2.0], [5.0, 2.0]], [\"M\", \"L\"]], [[[6.0, 2.0], [7.0, 2.0]], [\"M\", \"L\"]], [[[5.0, 1.0], [5.0, 2.0]], [\"M\", \"L\"]], [[[5.0, 1.0], [6.0, 1.0]], [\"M\", \"L\"]], [[[5.0, 1.0], [4.0, 1.0]], [\"M\", \"L\"]], [[[7.0, 2.0], [7.0, 1.0]], [\"M\", \"L\"]], [[[5.0, 5.0], [4.0, 5.0]], [\"M\", \"L\"]], [[[5.0, 5.0], [5.0, 4.0]], [\"M\", \"L\"]], [[[5.0, 5.0], [6.0, 5.0]], [\"M\", \"L\"]], [[[4.0, 4.0], [4.0, 5.0]], [\"M\", \"L\"]], [[[4.0, 4.0], [5.0, 4.0]], [\"M\", \"L\"]], [[[4.0, 4.0], [3.0, 4.0]], [\"M\", \"L\"]], [[[4.0, 4.0], [4.0, 3.0]], [\"M\", \"L\"]], [[[6.0, 3.0], [6.0, 4.0]], [\"M\", \"L\"]], [[[6.0, 3.0], [5.0, 3.0]], [\"M\", \"L\"]], [[[3.0, 3.0], [3.0, 4.0]], [\"M\", \"L\"]], [[[3.0, 3.0], [4.0, 3.0]], [\"M\", \"L\"]], [[[5.0, 3.0], [5.0, 4.0]], [\"M\", \"L\"]], [[[5.0, 3.0], [5.0, 2.0]], [\"M\", \"L\"]], [[[5.0, 3.0], [4.0, 3.0]], [\"M\", \"L\"]], [[[4.0, 1.0], [3.0, 1.0]], [\"M\", \"L\"]], [[[4.0, 1.0], [4.0, 2.0]], [\"M\", \"L\"]], [[[6.0, 4.0], [7.0, 4.0]], [\"M\", \"L\"]], [[[6.0, 4.0], [5.0, 4.0]], [\"M\", \"L\"]], [[[6.0, 4.0], [6.0, 5.0]], [\"M\", \"L\"]], [[[7.0, 1.0], [6.0, 1.0]], [\"M\", \"L\"]], [[[4.0, 5.0], [3.0, 5.0]], [\"M\", \"L\"]], [[[7.0, 5.0], [7.0, 4.0]], [\"M\", \"L\"]], [[[7.0, 5.0], [6.0, 5.0]], [\"M\", \"L\"]], [[[4.0, 2.0], [5.0, 2.0]], [\"M\", \"L\"]], [[[4.0, 2.0], [4.0, 3.0]], [\"M\", \"L\"]], [[[3.0, 5.0], [3.0, 4.0]], [\"M\", \"L\"]]], \"edgecolors\": [\"#FF0000\"], \"edgewidths\": [4], \"offsets\": \"data01\", \"yindex\": 0, \"id\": \"el98394488363280\", \"pathtransforms\": [], \"pathcoordinates\": \"data\", \"offsetcoordinates\": \"display\", \"zorder\": 1, \"xindex\": 0, \"alphas\": [null], \"facecolors\": []}], \"xscale\": \"linear\", \"bbox\": [0.22187499999999999, 0.125, 0.58125000000000004, 0.77500000000000002]}], \"height\": 480.0, \"width\": 640.0, \"plugins\": [{\"type\": \"reset\"}, {\"enabled\": false, \"button\": true, \"type\": \"zoom\"}, {\"enabled\": false, \"button\": true, \"type\": \"boxzoom\"}], \"data\": {\"data01\": [[0.0, 0.0]]}, \"id\": \"el98394460171856\"});\n",
       "      });\n",
       "    });\n",
       "}else{\n",
       "    // require.js not available: dynamically load d3 & mpld3\n",
       "    mpld3_load_lib(\"https://mpld3.github.io/js/d3.v3.min.js\", function(){\n",
       "         mpld3_load_lib(\"https://mpld3.github.io/js/mpld3.v0.2.js\", function(){\n",
       "                 \n",
       "                 mpld3.draw_figure(\"fig_el983944601718562279580994\", {\"axes\": [{\"xlim\": [1.0, 9.0], \"yscale\": \"linear\", \"axesbg\": \"none\", \"texts\": [], \"zoomable\": true, \"images\": [], \"xdomain\": [1.0, 9.0], \"ylim\": [-1.0, 7.0], \"paths\": [], \"sharey\": [], \"sharex\": [], \"axesbgalpha\": null, \"axes\": [{\"scale\": \"linear\", \"tickformat\": null, \"grid\": {\"gridOn\": false}, \"fontsize\": 10.0, \"position\": \"bottom\", \"nticks\": 9, \"tickvalues\": null}, {\"scale\": \"linear\", \"tickformat\": null, \"grid\": {\"gridOn\": false}, \"fontsize\": 10.0, \"position\": \"left\", \"nticks\": 9, \"tickvalues\": null}], \"lines\": [], \"markers\": [], \"id\": \"el98394460129680\", \"ydomain\": [-1.0, 7.0], \"collections\": [{\"paths\": [[[[7.0, 3.0], [6.0, 3.0]], [\"M\", \"L\"]], [[[7.0, 3.0], [7.0, 4.0]], [\"M\", \"L\"]], [[[7.0, 3.0], [8.0, 3.0]], [\"M\", \"L\"]], [[[7.0, 3.0], [7.0, 2.0]], [\"M\", \"L\"]], [[[6.0, 6.0], [5.0, 6.0]], [\"M\", \"L\"]], [[[6.0, 6.0], [7.0, 6.0]], [\"M\", \"L\"]], [[[6.0, 6.0], [6.0, 5.0]], [\"M\", \"L\"]], [[[5.0, 6.0], [4.0, 6.0]], [\"M\", \"L\"]], [[[5.0, 6.0], [5.0, 5.0]], [\"M\", \"L\"]], [[[8.0, 0.0], [8.0, 1.0]], [\"M\", \"L\"]], [[[8.0, 0.0], [7.0, 0.0]], [\"M\", \"L\"]], [[[5.0, 4.0], [6.0, 4.0]], [\"M\", \"L\"]], [[[5.0, 4.0], [4.0, 4.0]], [\"M\", \"L\"]], [[[5.0, 4.0], [5.0, 5.0]], [\"M\", \"L\"]], [[[5.0, 4.0], [5.0, 3.0]], [\"M\", \"L\"]], [[[2.0, 1.0], [2.0, 0.0]], [\"M\", \"L\"]], [[[2.0, 1.0], [3.0, 1.0]], [\"M\", \"L\"]], [[[2.0, 1.0], [2.0, 2.0]], [\"M\", \"L\"]], [[[6.0, 2.0], [6.0, 3.0]], [\"M\", \"L\"]], [[[6.0, 2.0], [6.0, 1.0]], [\"M\", \"L\"]], [[[6.0, 2.0], [5.0, 2.0]], [\"M\", \"L\"]], [[[6.0, 2.0], [7.0, 2.0]], [\"M\", \"L\"]], [[[5.0, 1.0], [4.0, 1.0]], [\"M\", \"L\"]], [[[5.0, 1.0], [6.0, 1.0]], [\"M\", \"L\"]], [[[5.0, 1.0], [5.0, 2.0]], [\"M\", \"L\"]], [[[5.0, 1.0], [5.0, 0.0]], [\"M\", \"L\"]], [[[2.0, 5.0], [2.0, 6.0]], [\"M\", \"L\"]], [[[2.0, 5.0], [2.0, 4.0]], [\"M\", \"L\"]], [[[2.0, 5.0], [3.0, 5.0]], [\"M\", \"L\"]], [[[8.0, 5.0], [8.0, 6.0]], [\"M\", \"L\"]], [[[8.0, 5.0], [7.0, 5.0]], [\"M\", \"L\"]], [[[8.0, 5.0], [8.0, 4.0]], [\"M\", \"L\"]], [[[7.0, 2.0], [8.0, 2.0]], [\"M\", \"L\"]], [[[7.0, 2.0], [7.0, 1.0]], [\"M\", \"L\"]], [[[4.0, 0.0], [3.0, 0.0]], [\"M\", \"L\"]], [[[4.0, 0.0], [4.0, 1.0]], [\"M\", \"L\"]], [[[4.0, 0.0], [5.0, 0.0]], [\"M\", \"L\"]], [[[5.0, 5.0], [4.0, 5.0]], [\"M\", \"L\"]], [[[5.0, 5.0], [6.0, 5.0]], [\"M\", \"L\"]], [[[8.0, 1.0], [8.0, 2.0]], [\"M\", \"L\"]], [[[8.0, 1.0], [7.0, 1.0]], [\"M\", \"L\"]], [[[7.0, 6.0], [8.0, 6.0]], [\"M\", \"L\"]], [[[7.0, 6.0], [7.0, 5.0]], [\"M\", \"L\"]], [[[4.0, 4.0], [4.0, 5.0]], [\"M\", \"L\"]], [[[4.0, 4.0], [3.0, 4.0]], [\"M\", \"L\"]], [[[4.0, 4.0], [4.0, 3.0]], [\"M\", \"L\"]], [[[6.0, 3.0], [5.0, 3.0]], [\"M\", \"L\"]], [[[6.0, 3.0], [6.0, 4.0]], [\"M\", \"L\"]], [[[3.0, 0.0], [2.0, 0.0]], [\"M\", \"L\"]], [[[3.0, 0.0], [3.0, 1.0]], [\"M\", \"L\"]], [[[5.0, 0.0], [6.0, 0.0]], [\"M\", \"L\"]], [[[2.0, 2.0], [3.0, 2.0]], [\"M\", \"L\"]], [[[2.0, 2.0], [2.0, 3.0]], [\"M\", \"L\"]], [[[3.0, 5.0], [4.0, 5.0]], [\"M\", \"L\"]], [[[3.0, 5.0], [3.0, 4.0]], [\"M\", \"L\"]], [[[3.0, 5.0], [3.0, 6.0]], [\"M\", \"L\"]], [[[4.0, 1.0], [3.0, 1.0]], [\"M\", \"L\"]], [[[4.0, 1.0], [4.0, 2.0]], [\"M\", \"L\"]], [[[6.0, 4.0], [7.0, 4.0]], [\"M\", \"L\"]], [[[6.0, 4.0], [6.0, 5.0]], [\"M\", \"L\"]], [[[3.0, 2.0], [4.0, 2.0]], [\"M\", \"L\"]], [[[3.0, 2.0], [3.0, 1.0]], [\"M\", \"L\"]], [[[3.0, 2.0], [3.0, 3.0]], [\"M\", \"L\"]], [[[2.0, 6.0], [3.0, 6.0]], [\"M\", \"L\"]], [[[8.0, 2.0], [8.0, 3.0]], [\"M\", \"L\"]], [[[7.0, 1.0], [6.0, 1.0]], [\"M\", \"L\"]], [[[7.0, 1.0], [7.0, 0.0]], [\"M\", \"L\"]], [[[4.0, 5.0], [4.0, 6.0]], [\"M\", \"L\"]], [[[6.0, 0.0], [6.0, 1.0]], [\"M\", \"L\"]], [[[6.0, 0.0], [7.0, 0.0]], [\"M\", \"L\"]], [[[7.0, 5.0], [7.0, 4.0]], [\"M\", \"L\"]], [[[7.0, 5.0], [6.0, 5.0]], [\"M\", \"L\"]], [[[2.0, 3.0], [2.0, 4.0]], [\"M\", \"L\"]], [[[2.0, 3.0], [3.0, 3.0]], [\"M\", \"L\"]], [[[4.0, 2.0], [5.0, 2.0]], [\"M\", \"L\"]], [[[4.0, 2.0], [4.0, 3.0]], [\"M\", \"L\"]], [[[3.0, 3.0], [3.0, 4.0]], [\"M\", \"L\"]], [[[3.0, 3.0], [4.0, 3.0]], [\"M\", \"L\"]], [[[5.0, 3.0], [5.0, 2.0]], [\"M\", \"L\"]], [[[5.0, 3.0], [4.0, 3.0]], [\"M\", \"L\"]], [[[4.0, 6.0], [3.0, 6.0]], [\"M\", \"L\"]], [[[7.0, 4.0], [8.0, 4.0]], [\"M\", \"L\"]], [[[8.0, 3.0], [8.0, 4.0]], [\"M\", \"L\"]], [[[3.0, 4.0], [2.0, 4.0]], [\"M\", \"L\"]]], \"edgecolors\": [\"#000000\", \"#000000\", \"#000000\", \"#000000\", \"#0000FF\", \"#0000FF\", \"#000000\", \"#0000FF\", \"#000000\", \"#0000FF\", \"#0000FF\", \"#000000\", \"#000000\", \"#000000\", \"#000000\", \"#0000FF\", \"#000000\", \"#0000FF\", \"#000000\", \"#000000\", \"#000000\", \"#000000\", \"#000000\", \"#000000\", \"#000000\", \"#000000\", \"#0000FF\", \"#0000FF\", \"#000000\", \"#0000FF\", \"#000000\", \"#0000FF\", \"#000000\", \"#000000\", \"#0000FF\", \"#000000\", \"#0000FF\", \"#000000\", \"#000000\", \"#0000FF\", \"#000000\", \"#0000FF\", \"#000000\", \"#000000\", \"#000000\", \"#000000\", \"#000000\", \"#000000\", \"#0000FF\", \"#000000\", \"#0000FF\", \"#000000\", \"#0000FF\", \"#000000\", \"#000000\", \"#000000\", \"#000000\", \"#000000\", \"#000000\", \"#000000\", \"#000000\", \"#000000\", \"#000000\", \"#0000FF\", \"#0000FF\", \"#000000\", \"#000000\", \"#000000\", \"#000000\", \"#0000FF\", \"#000000\", \"#000000\", \"#0000FF\", \"#000000\", \"#000000\", \"#000000\", \"#000000\", \"#000000\", \"#000000\", \"#000000\", \"#0000FF\", \"#000000\", \"#0000FF\", \"#000000\"], \"edgewidths\": [1, 1, 1, 1, 4, 4, 1, 4, 1, 4, 4, 1, 1, 1, 1, 4, 1, 4, 1, 1, 1, 1, 1, 1, 1, 1, 4, 4, 1, 4, 1, 4, 1, 1, 4, 1, 4, 1, 1, 4, 1, 4, 1, 1, 1, 1, 1, 1, 4, 1, 4, 1, 4, 1, 1, 1, 1, 1, 1, 1, 1, 1, 1, 4, 4, 1, 1, 1, 1, 4, 1, 1, 4, 1, 1, 1, 1, 1, 1, 1, 4, 1, 4, 1], \"offsets\": \"data01\", \"yindex\": 1, \"id\": \"el98394456019856\", \"pathtransforms\": [], \"pathcoordinates\": \"data\", \"offsetcoordinates\": \"display\", \"zorder\": 1, \"xindex\": 0, \"alphas\": [null], \"facecolors\": []}, {\"paths\": [[[[7.0, 3.0], [6.0, 3.0]], [\"M\", \"L\"]], [[[7.0, 3.0], [7.0, 4.0]], [\"M\", \"L\"]], [[[7.0, 3.0], [7.0, 2.0]], [\"M\", \"L\"]], [[[3.0, 2.0], [4.0, 2.0]], [\"M\", \"L\"]], [[[3.0, 2.0], [3.0, 1.0]], [\"M\", \"L\"]], [[[3.0, 2.0], [3.0, 3.0]], [\"M\", \"L\"]], [[[6.0, 2.0], [6.0, 3.0]], [\"M\", \"L\"]], [[[6.0, 2.0], [6.0, 1.0]], [\"M\", \"L\"]], [[[6.0, 2.0], [5.0, 2.0]], [\"M\", \"L\"]], [[[6.0, 2.0], [7.0, 2.0]], [\"M\", \"L\"]], [[[5.0, 1.0], [5.0, 2.0]], [\"M\", \"L\"]], [[[5.0, 1.0], [6.0, 1.0]], [\"M\", \"L\"]], [[[5.0, 1.0], [4.0, 1.0]], [\"M\", \"L\"]], [[[7.0, 2.0], [7.0, 1.0]], [\"M\", \"L\"]], [[[5.0, 5.0], [4.0, 5.0]], [\"M\", \"L\"]], [[[5.0, 5.0], [5.0, 4.0]], [\"M\", \"L\"]], [[[5.0, 5.0], [6.0, 5.0]], [\"M\", \"L\"]], [[[4.0, 4.0], [4.0, 5.0]], [\"M\", \"L\"]], [[[4.0, 4.0], [5.0, 4.0]], [\"M\", \"L\"]], [[[4.0, 4.0], [3.0, 4.0]], [\"M\", \"L\"]], [[[4.0, 4.0], [4.0, 3.0]], [\"M\", \"L\"]], [[[6.0, 3.0], [6.0, 4.0]], [\"M\", \"L\"]], [[[6.0, 3.0], [5.0, 3.0]], [\"M\", \"L\"]], [[[3.0, 3.0], [3.0, 4.0]], [\"M\", \"L\"]], [[[3.0, 3.0], [4.0, 3.0]], [\"M\", \"L\"]], [[[5.0, 3.0], [5.0, 4.0]], [\"M\", \"L\"]], [[[5.0, 3.0], [5.0, 2.0]], [\"M\", \"L\"]], [[[5.0, 3.0], [4.0, 3.0]], [\"M\", \"L\"]], [[[4.0, 1.0], [3.0, 1.0]], [\"M\", \"L\"]], [[[4.0, 1.0], [4.0, 2.0]], [\"M\", \"L\"]], [[[6.0, 4.0], [7.0, 4.0]], [\"M\", \"L\"]], [[[6.0, 4.0], [5.0, 4.0]], [\"M\", \"L\"]], [[[6.0, 4.0], [6.0, 5.0]], [\"M\", \"L\"]], [[[7.0, 1.0], [6.0, 1.0]], [\"M\", \"L\"]], [[[4.0, 5.0], [3.0, 5.0]], [\"M\", \"L\"]], [[[7.0, 5.0], [7.0, 4.0]], [\"M\", \"L\"]], [[[7.0, 5.0], [6.0, 5.0]], [\"M\", \"L\"]], [[[4.0, 2.0], [5.0, 2.0]], [\"M\", \"L\"]], [[[4.0, 2.0], [4.0, 3.0]], [\"M\", \"L\"]], [[[3.0, 5.0], [3.0, 4.0]], [\"M\", \"L\"]]], \"edgecolors\": [\"#FF0000\"], \"edgewidths\": [4], \"offsets\": \"data01\", \"yindex\": 0, \"id\": \"el98394488363280\", \"pathtransforms\": [], \"pathcoordinates\": \"data\", \"offsetcoordinates\": \"display\", \"zorder\": 1, \"xindex\": 0, \"alphas\": [null], \"facecolors\": []}], \"xscale\": \"linear\", \"bbox\": [0.22187499999999999, 0.125, 0.58125000000000004, 0.77500000000000002]}], \"height\": 480.0, \"width\": 640.0, \"plugins\": [{\"type\": \"reset\"}, {\"enabled\": false, \"button\": true, \"type\": \"zoom\"}, {\"enabled\": false, \"button\": true, \"type\": \"boxzoom\"}], \"data\": {\"data01\": [[0.0, 0.0]]}, \"id\": \"el98394460171856\"});\n",
       "            })\n",
       "         });\n",
       "}\n",
       "</script>"
      ],
      "text/plain": [
       "<matplotlib.figure.Figure at 0x109d8d250>"
      ]
     },
     "metadata": {},
     "output_type": "display_data"
    }
   ],
   "source": [
    "## CHOOSE GRAPH:\n",
    "myG = simpleG.copy()\n",
    "\n",
    "myG.name = \"copyL0\"\n",
    "myG.define_roads()\n",
    "myG.define_interior_parcels()\n",
    "\n",
    "myG.inner_facelist\n",
    "myG.outerface\n",
    "\n",
    "re = [e for e in myG.myedges() if e.road]\n",
    "\n",
    "re2 = myG.road_edges\n",
    "\n",
    "print len(re)\n",
    "\n",
    "print len(re2)\n",
    "\n",
    "myG.plot_roads()"
   ]
  },
  {
   "cell_type": "code",
   "execution_count": 221,
   "metadata": {
    "collapsed": false
   },
   "outputs": [
    {
     "data": {
      "text/plain": [
       "{MyEdge with nodes (2.00,4.00) (2.00,5.00),\n",
       " MyEdge with nodes (2.00,6.00) (2.00,5.00),\n",
       " MyEdge with nodes (2.00,2.00) (2.00,1.00),\n",
       " MyEdge with nodes (2.00,0.00) (2.00,1.00),\n",
       " MyEdge with nodes (7.00,0.00) (8.00,0.00),\n",
       " MyEdge with nodes (8.00,1.00) (8.00,0.00),\n",
       " MyEdge with nodes (3.00,6.00) (4.00,6.00),\n",
       " MyEdge with nodes (8.00,4.00) (8.00,3.00),\n",
       " MyEdge with nodes (5.00,0.00) (4.00,0.00),\n",
       " MyEdge with nodes (8.00,6.00) (8.00,5.00),\n",
       " MyEdge with nodes (8.00,2.00) (8.00,1.00),\n",
       " MyEdge with nodes (8.00,6.00) (7.00,6.00),\n",
       " MyEdge with nodes (8.00,4.00) (8.00,5.00),\n",
       " MyEdge with nodes (4.00,0.00) (3.00,0.00),\n",
       " MyEdge with nodes (2.00,0.00) (3.00,0.00),\n",
       " MyEdge with nodes (3.00,6.00) (2.00,6.00),\n",
       " MyEdge with nodes (2.00,3.00) (2.00,2.00),\n",
       " MyEdge with nodes (6.00,0.00) (5.00,0.00),\n",
       " MyEdge with nodes (2.00,4.00) (2.00,3.00),\n",
       " MyEdge with nodes (7.00,0.00) (6.00,0.00),\n",
       " MyEdge with nodes (8.00,3.00) (8.00,2.00),\n",
       " MyEdge with nodes (4.00,6.00) (5.00,6.00),\n",
       " MyEdge with nodes (5.00,6.00) (6.00,6.00),\n",
       " MyEdge with nodes (7.00,6.00) (6.00,6.00)}"
      ]
     },
     "execution_count": 221,
     "metadata": {},
     "output_type": "execute_result"
    }
   ],
   "source": [
    "reset = set(re)\n",
    "re2set = set(re2)\n",
    "edgeset = set(myG.myedges())\n",
    "\n",
    "\n",
    "re2set.intersection(edgeset)"
   ]
  },
  {
   "cell_type": "code",
   "execution_count": 222,
   "metadata": {
    "collapsed": false
   },
   "outputs": [
    {
     "name": "stdout",
     "output_type": "stream",
     "text": [
      "[Face with centroid at (4.50,1.50), Face with centroid at (3.50,0.50), Face with centroid at (7.50,3.50), Face with centroid at (5.50,1.50), Face with centroid at (6.50,4.50), Face with centroid at (6.50,0.50), Face with centroid at (6.50,1.50), Face with centroid at (2.50,0.50), Face with centroid at (7.50,5.50), Face with centroid at (4.50,4.50), Face with centroid at (2.50,5.50), Face with centroid at (6.50,5.50), Face with centroid at (7.50,0.50), Face with centroid at (5.50,5.50), Face with centroid at (7.50,4.50), Face with centroid at (3.50,4.50), Face with centroid at (6.50,3.50), Face with centroid at (3.50,1.50), Face with centroid at (2.50,4.50), Face with centroid at (5.50,0.50), Face with centroid at (2.50,2.50), Face with centroid at (5.50,4.50), Face with centroid at (7.50,1.50), Face with centroid at (4.50,2.50), Face with centroid at (4.50,3.50), Face with centroid at (5.50,2.50), Face with centroid at (2.50,1.50), Face with centroid at (2.50,3.50), Face with centroid at (5.50,3.50), Face with centroid at (7.50,2.50), Face with centroid at (3.50,5.50), Face with centroid at (4.50,5.50), Face with centroid at (4.50,0.50), Face with centroid at (3.50,2.50), Face with centroid at (6.50,2.50), Face with centroid at (3.50,3.50)]\n",
      "Face with centroid at (5.00,3.00)\n",
      "MyEdge with nodes (3.00,6.00) (2.00,6.00) is road? True\n",
      "MyEdge with nodes (3.00,6.00) (4.00,6.00) is road? True\n",
      "MyEdge with nodes (4.00,6.00) (5.00,6.00) is road? True\n",
      "MyEdge with nodes (5.00,6.00) (6.00,6.00) is road? True\n",
      "MyEdge with nodes (7.00,6.00) (6.00,6.00) is road? True\n",
      "MyEdge with nodes (8.00,6.00) (7.00,6.00) is road? True\n",
      "MyEdge with nodes (8.00,6.00) (8.00,5.00) is road? True\n",
      "MyEdge with nodes (8.00,4.00) (8.00,5.00) is road? True\n",
      "MyEdge with nodes (8.00,4.00) (8.00,3.00) is road? True\n",
      "MyEdge with nodes (8.00,3.00) (8.00,2.00) is road? True\n",
      "MyEdge with nodes (8.00,2.00) (8.00,1.00) is road? True\n",
      "MyEdge with nodes (8.00,1.00) (8.00,0.00) is road? True\n",
      "MyEdge with nodes (7.00,0.00) (8.00,0.00) is road? True\n",
      "MyEdge with nodes (7.00,0.00) (6.00,0.00) is road? True\n",
      "MyEdge with nodes (6.00,0.00) (5.00,0.00) is road? True\n",
      "MyEdge with nodes (5.00,0.00) (4.00,0.00) is road? True\n",
      "MyEdge with nodes (4.00,0.00) (3.00,0.00) is road? True\n",
      "MyEdge with nodes (2.00,0.00) (3.00,0.00) is road? True\n",
      "MyEdge with nodes (2.00,0.00) (2.00,1.00) is road? True\n",
      "MyEdge with nodes (2.00,2.00) (2.00,1.00) is road? True\n",
      "MyEdge with nodes (2.00,3.00) (2.00,2.00) is road? True\n",
      "MyEdge with nodes (2.00,4.00) (2.00,3.00) is road? True\n",
      "MyEdge with nodes (2.00,4.00) (2.00,5.00) is road? True\n",
      "MyEdge with nodes (2.00,6.00) (2.00,5.00) is road? True\n",
      "[(2.00,0.00), (2.00,1.00), (2.00,2.00), (2.00,3.00), (2.00,4.00), (2.00,5.00), (2.00,6.00), (3.00,0.00), (3.00,6.00), (4.00,0.00), (4.00,6.00), (5.00,0.00), (5.00,6.00), (6.00,0.00), (6.00,6.00), (7.00,0.00), (7.00,6.00), (8.00,0.00), (8.00,1.00), (8.00,2.00), (8.00,3.00), (8.00,4.00), (8.00,5.00), (8.00,6.00)]\n",
      "road edges are: \n",
      "[MyEdge with nodes (5.00,6.00) (6.00,6.00), MyEdge with nodes (7.00,6.00) (6.00,6.00), MyEdge with nodes (4.00,6.00) (5.00,6.00), MyEdge with nodes (8.00,1.00) (8.00,0.00), MyEdge with nodes (7.00,0.00) (8.00,0.00), MyEdge with nodes (2.00,0.00) (2.00,1.00), MyEdge with nodes (2.00,2.00) (2.00,1.00), MyEdge with nodes (2.00,6.00) (2.00,5.00), MyEdge with nodes (2.00,4.00) (2.00,5.00), MyEdge with nodes (8.00,6.00) (8.00,5.00), MyEdge with nodes (8.00,4.00) (8.00,5.00), MyEdge with nodes (4.00,0.00) (3.00,0.00), MyEdge with nodes (5.00,0.00) (4.00,0.00), MyEdge with nodes (8.00,2.00) (8.00,1.00), MyEdge with nodes (8.00,6.00) (7.00,6.00), MyEdge with nodes (2.00,0.00) (3.00,0.00), MyEdge with nodes (6.00,0.00) (5.00,0.00), MyEdge with nodes (2.00,3.00) (2.00,2.00), MyEdge with nodes (3.00,6.00) (2.00,6.00), MyEdge with nodes (8.00,3.00) (8.00,2.00), MyEdge with nodes (7.00,0.00) (6.00,0.00), MyEdge with nodes (2.00,4.00) (2.00,3.00), MyEdge with nodes (3.00,6.00) (4.00,6.00), MyEdge with nodes (8.00,4.00) (8.00,3.00)]\n"
     ]
    },
    {
     "data": {
      "image/png": "[encoded data removed]",
      "text/html": [
       "\n",
       "\n",
       "<style>\n",
       "\n",
       "</style>\n",
       "\n",
       "<div id=\"fig_el983944664935207294909113\"></div>\n",
       "<script>\n",
       "function mpld3_load_lib(url, callback){\n",
       "  var s = document.createElement('script');\n",
       "  s.src = url;\n",
       "  s.async = true;\n",
       "  s.onreadystatechange = s.onload = callback;\n",
       "  s.onerror = function(){console.warn(\"failed to load library \" + url);};\n",
       "  document.getElementsByTagName(\"head\")[0].appendChild(s);\n",
       "}\n",
       "\n",
       "if(typeof(mpld3) !== \"undefined\" && mpld3._mpld3IsLoaded){\n",
       "   // already loaded: just create the figure\n",
       "   !function(mpld3){\n",
       "       \n",
       "       mpld3.draw_figure(\"fig_el983944664935207294909113\", {\"axes\": [{\"xlim\": [1.0, 9.0], \"yscale\": \"linear\", \"axesbg\": \"none\", \"texts\": [], \"zoomable\": true, \"images\": [], \"xdomain\": [1.0, 9.0], \"ylim\": [-1.0, 7.0], \"paths\": [], \"sharey\": [], \"sharex\": [], \"axesbgalpha\": null, \"axes\": [{\"scale\": \"linear\", \"tickformat\": null, \"grid\": {\"gridOn\": false}, \"fontsize\": 10.0, \"position\": \"bottom\", \"nticks\": 9, \"tickvalues\": null}, {\"scale\": \"linear\", \"tickformat\": null, \"grid\": {\"gridOn\": false}, \"fontsize\": 10.0, \"position\": \"left\", \"nticks\": 9, \"tickvalues\": null}], \"lines\": [], \"markers\": [], \"id\": \"el98394460320464\", \"ydomain\": [-1.0, 7.0], \"collections\": [{\"paths\": [[[[7.0, 3.0], [6.0, 3.0]], [\"M\", \"L\"]], [[[7.0, 3.0], [7.0, 4.0]], [\"M\", \"L\"]], [[[7.0, 3.0], [8.0, 3.0]], [\"M\", \"L\"]], [[[7.0, 3.0], [7.0, 2.0]], [\"M\", \"L\"]], [[[6.0, 6.0], [5.0, 6.0]], [\"M\", \"L\"]], [[[6.0, 6.0], [7.0, 6.0]], [\"M\", \"L\"]], [[[6.0, 6.0], [6.0, 5.0]], [\"M\", \"L\"]], [[[5.0, 6.0], [4.0, 6.0]], [\"M\", \"L\"]], [[[5.0, 6.0], [5.0, 5.0]], [\"M\", \"L\"]], [[[8.0, 0.0], [8.0, 1.0]], [\"M\", \"L\"]], [[[8.0, 0.0], [7.0, 0.0]], [\"M\", \"L\"]], [[[5.0, 4.0], [6.0, 4.0]], [\"M\", \"L\"]], [[[5.0, 4.0], [4.0, 4.0]], [\"M\", \"L\"]], [[[5.0, 4.0], [5.0, 5.0]], [\"M\", \"L\"]], [[[5.0, 4.0], [5.0, 3.0]], [\"M\", \"L\"]], [[[2.0, 1.0], [2.0, 0.0]], [\"M\", \"L\"]], [[[2.0, 1.0], [3.0, 1.0]], [\"M\", \"L\"]], [[[2.0, 1.0], [2.0, 2.0]], [\"M\", \"L\"]], [[[6.0, 2.0], [6.0, 3.0]], [\"M\", \"L\"]], [[[6.0, 2.0], [6.0, 1.0]], [\"M\", \"L\"]], [[[6.0, 2.0], [5.0, 2.0]], [\"M\", \"L\"]], [[[6.0, 2.0], [7.0, 2.0]], [\"M\", \"L\"]], [[[5.0, 1.0], [4.0, 1.0]], [\"M\", \"L\"]], [[[5.0, 1.0], [6.0, 1.0]], [\"M\", \"L\"]], [[[5.0, 1.0], [5.0, 2.0]], [\"M\", \"L\"]], [[[5.0, 1.0], [5.0, 0.0]], [\"M\", \"L\"]], [[[2.0, 5.0], [2.0, 6.0]], [\"M\", \"L\"]], [[[2.0, 5.0], [2.0, 4.0]], [\"M\", \"L\"]], [[[2.0, 5.0], [3.0, 5.0]], [\"M\", \"L\"]], [[[8.0, 5.0], [8.0, 6.0]], [\"M\", \"L\"]], [[[8.0, 5.0], [7.0, 5.0]], [\"M\", \"L\"]], [[[8.0, 5.0], [8.0, 4.0]], [\"M\", \"L\"]], [[[7.0, 2.0], [8.0, 2.0]], [\"M\", \"L\"]], [[[7.0, 2.0], [7.0, 1.0]], [\"M\", \"L\"]], [[[4.0, 0.0], [3.0, 0.0]], [\"M\", \"L\"]], [[[4.0, 0.0], [4.0, 1.0]], [\"M\", \"L\"]], [[[4.0, 0.0], [5.0, 0.0]], [\"M\", \"L\"]], [[[5.0, 5.0], [4.0, 5.0]], [\"M\", \"L\"]], [[[5.0, 5.0], [6.0, 5.0]], [\"M\", \"L\"]], [[[8.0, 1.0], [8.0, 2.0]], [\"M\", \"L\"]], [[[8.0, 1.0], [7.0, 1.0]], [\"M\", \"L\"]], [[[7.0, 6.0], [8.0, 6.0]], [\"M\", \"L\"]], [[[7.0, 6.0], [7.0, 5.0]], [\"M\", \"L\"]], [[[4.0, 4.0], [4.0, 5.0]], [\"M\", \"L\"]], [[[4.0, 4.0], [3.0, 4.0]], [\"M\", \"L\"]], [[[4.0, 4.0], [4.0, 3.0]], [\"M\", \"L\"]], [[[6.0, 3.0], [5.0, 3.0]], [\"M\", \"L\"]], [[[6.0, 3.0], [6.0, 4.0]], [\"M\", \"L\"]], [[[3.0, 0.0], [2.0, 0.0]], [\"M\", \"L\"]], [[[3.0, 0.0], [3.0, 1.0]], [\"M\", \"L\"]], [[[5.0, 0.0], [6.0, 0.0]], [\"M\", \"L\"]], [[[2.0, 2.0], [3.0, 2.0]], [\"M\", \"L\"]], [[[2.0, 2.0], [2.0, 3.0]], [\"M\", \"L\"]], [[[3.0, 5.0], [4.0, 5.0]], [\"M\", \"L\"]], [[[3.0, 5.0], [3.0, 4.0]], [\"M\", \"L\"]], [[[3.0, 5.0], [3.0, 6.0]], [\"M\", \"L\"]], [[[4.0, 1.0], [3.0, 1.0]], [\"M\", \"L\"]], [[[4.0, 1.0], [4.0, 2.0]], [\"M\", \"L\"]], [[[6.0, 4.0], [7.0, 4.0]], [\"M\", \"L\"]], [[[6.0, 4.0], [6.0, 5.0]], [\"M\", \"L\"]], [[[3.0, 2.0], [4.0, 2.0]], [\"M\", \"L\"]], [[[3.0, 2.0], [3.0, 1.0]], [\"M\", \"L\"]], [[[3.0, 2.0], [3.0, 3.0]], [\"M\", \"L\"]], [[[2.0, 6.0], [3.0, 6.0]], [\"M\", \"L\"]], [[[8.0, 2.0], [8.0, 3.0]], [\"M\", \"L\"]], [[[7.0, 1.0], [6.0, 1.0]], [\"M\", \"L\"]], [[[7.0, 1.0], [7.0, 0.0]], [\"M\", \"L\"]], [[[4.0, 5.0], [4.0, 6.0]], [\"M\", \"L\"]], [[[6.0, 0.0], [6.0, 1.0]], [\"M\", \"L\"]], [[[6.0, 0.0], [7.0, 0.0]], [\"M\", \"L\"]], [[[7.0, 5.0], [7.0, 4.0]], [\"M\", \"L\"]], [[[7.0, 5.0], [6.0, 5.0]], [\"M\", \"L\"]], [[[2.0, 3.0], [2.0, 4.0]], [\"M\", \"L\"]], [[[2.0, 3.0], [3.0, 3.0]], [\"M\", \"L\"]], [[[4.0, 2.0], [5.0, 2.0]], [\"M\", \"L\"]], [[[4.0, 2.0], [4.0, 3.0]], [\"M\", \"L\"]], [[[3.0, 3.0], [3.0, 4.0]], [\"M\", \"L\"]], [[[3.0, 3.0], [4.0, 3.0]], [\"M\", \"L\"]], [[[5.0, 3.0], [5.0, 2.0]], [\"M\", \"L\"]], [[[5.0, 3.0], [4.0, 3.0]], [\"M\", \"L\"]], [[[4.0, 6.0], [3.0, 6.0]], [\"M\", \"L\"]], [[[7.0, 4.0], [8.0, 4.0]], [\"M\", \"L\"]], [[[8.0, 3.0], [8.0, 4.0]], [\"M\", \"L\"]], [[[3.0, 4.0], [2.0, 4.0]], [\"M\", \"L\"]]], \"edgecolors\": [\"#000000\", \"#000000\", \"#000000\", \"#000000\", \"#0000FF\", \"#0000FF\", \"#000000\", \"#0000FF\", \"#000000\", \"#0000FF\", \"#0000FF\", \"#000000\", \"#000000\", \"#000000\", \"#000000\", \"#0000FF\", \"#000000\", \"#0000FF\", \"#000000\", \"#000000\", \"#000000\", \"#000000\", \"#000000\", \"#000000\", \"#000000\", \"#000000\", \"#0000FF\", \"#0000FF\", \"#000000\", \"#0000FF\", \"#000000\", \"#0000FF\", \"#000000\", \"#000000\", \"#0000FF\", \"#000000\", \"#0000FF\", \"#000000\", \"#000000\", \"#0000FF\", \"#000000\", \"#0000FF\", \"#000000\", \"#000000\", \"#000000\", \"#000000\", \"#000000\", \"#000000\", \"#0000FF\", \"#000000\", \"#0000FF\", \"#000000\", \"#0000FF\", \"#000000\", \"#000000\", \"#000000\", \"#000000\", \"#000000\", \"#000000\", \"#000000\", \"#000000\", \"#000000\", \"#000000\", \"#0000FF\", \"#0000FF\", \"#000000\", \"#000000\", \"#000000\", \"#000000\", \"#0000FF\", \"#000000\", \"#000000\", \"#0000FF\", \"#000000\", \"#000000\", \"#000000\", \"#000000\", \"#000000\", \"#000000\", \"#000000\", \"#0000FF\", \"#000000\", \"#0000FF\", \"#000000\"], \"edgewidths\": [1, 1, 1, 1, 4, 4, 1, 4, 1, 4, 4, 1, 1, 1, 1, 4, 1, 4, 1, 1, 1, 1, 1, 1, 1, 1, 4, 4, 1, 4, 1, 4, 1, 1, 4, 1, 4, 1, 1, 4, 1, 4, 1, 1, 1, 1, 1, 1, 4, 1, 4, 1, 4, 1, 1, 1, 1, 1, 1, 1, 1, 1, 1, 4, 4, 1, 1, 1, 1, 4, 1, 1, 4, 1, 1, 1, 1, 1, 1, 1, 4, 1, 4, 1], \"offsets\": \"data01\", \"yindex\": 1, \"id\": \"el98394479988240\", \"pathtransforms\": [], \"pathcoordinates\": \"data\", \"offsetcoordinates\": \"display\", \"zorder\": 1, \"xindex\": 0, \"alphas\": [null], \"facecolors\": []}, {\"paths\": [[[[7.0, 3.0], [6.0, 3.0]], [\"M\", \"L\"]], [[[7.0, 3.0], [7.0, 4.0]], [\"M\", \"L\"]], [[[7.0, 3.0], [7.0, 2.0]], [\"M\", \"L\"]], [[[3.0, 2.0], [4.0, 2.0]], [\"M\", \"L\"]], [[[3.0, 2.0], [3.0, 1.0]], [\"M\", \"L\"]], [[[3.0, 2.0], [3.0, 3.0]], [\"M\", \"L\"]], [[[6.0, 2.0], [6.0, 3.0]], [\"M\", \"L\"]], [[[6.0, 2.0], [6.0, 1.0]], [\"M\", \"L\"]], [[[6.0, 2.0], [5.0, 2.0]], [\"M\", \"L\"]], [[[6.0, 2.0], [7.0, 2.0]], [\"M\", \"L\"]], [[[5.0, 1.0], [5.0, 2.0]], [\"M\", \"L\"]], [[[5.0, 1.0], [6.0, 1.0]], [\"M\", \"L\"]], [[[5.0, 1.0], [4.0, 1.0]], [\"M\", \"L\"]], [[[7.0, 2.0], [7.0, 1.0]], [\"M\", \"L\"]], [[[5.0, 5.0], [4.0, 5.0]], [\"M\", \"L\"]], [[[5.0, 5.0], [5.0, 4.0]], [\"M\", \"L\"]], [[[5.0, 5.0], [6.0, 5.0]], [\"M\", \"L\"]], [[[4.0, 4.0], [4.0, 5.0]], [\"M\", \"L\"]], [[[4.0, 4.0], [5.0, 4.0]], [\"M\", \"L\"]], [[[4.0, 4.0], [3.0, 4.0]], [\"M\", \"L\"]], [[[4.0, 4.0], [4.0, 3.0]], [\"M\", \"L\"]], [[[6.0, 3.0], [6.0, 4.0]], [\"M\", \"L\"]], [[[6.0, 3.0], [5.0, 3.0]], [\"M\", \"L\"]], [[[3.0, 3.0], [3.0, 4.0]], [\"M\", \"L\"]], [[[3.0, 3.0], [4.0, 3.0]], [\"M\", \"L\"]], [[[5.0, 3.0], [5.0, 4.0]], [\"M\", \"L\"]], [[[5.0, 3.0], [5.0, 2.0]], [\"M\", \"L\"]], [[[5.0, 3.0], [4.0, 3.0]], [\"M\", \"L\"]], [[[4.0, 1.0], [3.0, 1.0]], [\"M\", \"L\"]], [[[4.0, 1.0], [4.0, 2.0]], [\"M\", \"L\"]], [[[6.0, 4.0], [7.0, 4.0]], [\"M\", \"L\"]], [[[6.0, 4.0], [5.0, 4.0]], [\"M\", \"L\"]], [[[6.0, 4.0], [6.0, 5.0]], [\"M\", \"L\"]], [[[7.0, 1.0], [6.0, 1.0]], [\"M\", \"L\"]], [[[4.0, 5.0], [3.0, 5.0]], [\"M\", \"L\"]], [[[7.0, 5.0], [7.0, 4.0]], [\"M\", \"L\"]], [[[7.0, 5.0], [6.0, 5.0]], [\"M\", \"L\"]], [[[4.0, 2.0], [5.0, 2.0]], [\"M\", \"L\"]], [[[4.0, 2.0], [4.0, 3.0]], [\"M\", \"L\"]], [[[3.0, 5.0], [3.0, 4.0]], [\"M\", \"L\"]]], \"edgecolors\": [\"#FF0000\"], \"edgewidths\": [4], \"offsets\": \"data01\", \"yindex\": 0, \"id\": \"el98394481617104\", \"pathtransforms\": [], \"pathcoordinates\": \"data\", \"offsetcoordinates\": \"display\", \"zorder\": 1, \"xindex\": 0, \"alphas\": [null], \"facecolors\": []}], \"xscale\": \"linear\", \"bbox\": [0.22187499999999999, 0.125, 0.58125000000000004, 0.77500000000000002]}], \"height\": 480.0, \"width\": 640.0, \"plugins\": [{\"type\": \"reset\"}, {\"enabled\": false, \"button\": true, \"type\": \"zoom\"}, {\"enabled\": false, \"button\": true, \"type\": \"boxzoom\"}], \"data\": {\"data01\": [[0.0, 0.0]]}, \"id\": \"el98394466493520\"});\n",
       "   }(mpld3);\n",
       "}else if(typeof define === \"function\" && define.amd){\n",
       "   // require.js is available: use it to load d3/mpld3\n",
       "   require.config({paths: {d3: \"https://mpld3.github.io/js/d3.v3.min\"}});\n",
       "   require([\"d3\"], function(d3){\n",
       "      window.d3 = d3;\n",
       "      mpld3_load_lib(\"https://mpld3.github.io/js/mpld3.v0.2.js\", function(){\n",
       "         \n",
       "         mpld3.draw_figure(\"fig_el983944664935207294909113\", {\"axes\": [{\"xlim\": [1.0, 9.0], \"yscale\": \"linear\", \"axesbg\": \"none\", \"texts\": [], \"zoomable\": true, \"images\": [], \"xdomain\": [1.0, 9.0], \"ylim\": [-1.0, 7.0], \"paths\": [], \"sharey\": [], \"sharex\": [], \"axesbgalpha\": null, \"axes\": [{\"scale\": \"linear\", \"tickformat\": null, \"grid\": {\"gridOn\": false}, \"fontsize\": 10.0, \"position\": \"bottom\", \"nticks\": 9, \"tickvalues\": null}, {\"scale\": \"linear\", \"tickformat\": null, \"grid\": {\"gridOn\": false}, \"fontsize\": 10.0, \"position\": \"left\", \"nticks\": 9, \"tickvalues\": null}], \"lines\": [], \"markers\": [], \"id\": \"el98394460320464\", \"ydomain\": [-1.0, 7.0], \"collections\": [{\"paths\": [[[[7.0, 3.0], [6.0, 3.0]], [\"M\", \"L\"]], [[[7.0, 3.0], [7.0, 4.0]], [\"M\", \"L\"]], [[[7.0, 3.0], [8.0, 3.0]], [\"M\", \"L\"]], [[[7.0, 3.0], [7.0, 2.0]], [\"M\", \"L\"]], [[[6.0, 6.0], [5.0, 6.0]], [\"M\", \"L\"]], [[[6.0, 6.0], [7.0, 6.0]], [\"M\", \"L\"]], [[[6.0, 6.0], [6.0, 5.0]], [\"M\", \"L\"]], [[[5.0, 6.0], [4.0, 6.0]], [\"M\", \"L\"]], [[[5.0, 6.0], [5.0, 5.0]], [\"M\", \"L\"]], [[[8.0, 0.0], [8.0, 1.0]], [\"M\", \"L\"]], [[[8.0, 0.0], [7.0, 0.0]], [\"M\", \"L\"]], [[[5.0, 4.0], [6.0, 4.0]], [\"M\", \"L\"]], [[[5.0, 4.0], [4.0, 4.0]], [\"M\", \"L\"]], [[[5.0, 4.0], [5.0, 5.0]], [\"M\", \"L\"]], [[[5.0, 4.0], [5.0, 3.0]], [\"M\", \"L\"]], [[[2.0, 1.0], [2.0, 0.0]], [\"M\", \"L\"]], [[[2.0, 1.0], [3.0, 1.0]], [\"M\", \"L\"]], [[[2.0, 1.0], [2.0, 2.0]], [\"M\", \"L\"]], [[[6.0, 2.0], [6.0, 3.0]], [\"M\", \"L\"]], [[[6.0, 2.0], [6.0, 1.0]], [\"M\", \"L\"]], [[[6.0, 2.0], [5.0, 2.0]], [\"M\", \"L\"]], [[[6.0, 2.0], [7.0, 2.0]], [\"M\", \"L\"]], [[[5.0, 1.0], [4.0, 1.0]], [\"M\", \"L\"]], [[[5.0, 1.0], [6.0, 1.0]], [\"M\", \"L\"]], [[[5.0, 1.0], [5.0, 2.0]], [\"M\", \"L\"]], [[[5.0, 1.0], [5.0, 0.0]], [\"M\", \"L\"]], [[[2.0, 5.0], [2.0, 6.0]], [\"M\", \"L\"]], [[[2.0, 5.0], [2.0, 4.0]], [\"M\", \"L\"]], [[[2.0, 5.0], [3.0, 5.0]], [\"M\", \"L\"]], [[[8.0, 5.0], [8.0, 6.0]], [\"M\", \"L\"]], [[[8.0, 5.0], [7.0, 5.0]], [\"M\", \"L\"]], [[[8.0, 5.0], [8.0, 4.0]], [\"M\", \"L\"]], [[[7.0, 2.0], [8.0, 2.0]], [\"M\", \"L\"]], [[[7.0, 2.0], [7.0, 1.0]], [\"M\", \"L\"]], [[[4.0, 0.0], [3.0, 0.0]], [\"M\", \"L\"]], [[[4.0, 0.0], [4.0, 1.0]], [\"M\", \"L\"]], [[[4.0, 0.0], [5.0, 0.0]], [\"M\", \"L\"]], [[[5.0, 5.0], [4.0, 5.0]], [\"M\", \"L\"]], [[[5.0, 5.0], [6.0, 5.0]], [\"M\", \"L\"]], [[[8.0, 1.0], [8.0, 2.0]], [\"M\", \"L\"]], [[[8.0, 1.0], [7.0, 1.0]], [\"M\", \"L\"]], [[[7.0, 6.0], [8.0, 6.0]], [\"M\", \"L\"]], [[[7.0, 6.0], [7.0, 5.0]], [\"M\", \"L\"]], [[[4.0, 4.0], [4.0, 5.0]], [\"M\", \"L\"]], [[[4.0, 4.0], [3.0, 4.0]], [\"M\", \"L\"]], [[[4.0, 4.0], [4.0, 3.0]], [\"M\", \"L\"]], [[[6.0, 3.0], [5.0, 3.0]], [\"M\", \"L\"]], [[[6.0, 3.0], [6.0, 4.0]], [\"M\", \"L\"]], [[[3.0, 0.0], [2.0, 0.0]], [\"M\", \"L\"]], [[[3.0, 0.0], [3.0, 1.0]], [\"M\", \"L\"]], [[[5.0, 0.0], [6.0, 0.0]], [\"M\", \"L\"]], [[[2.0, 2.0], [3.0, 2.0]], [\"M\", \"L\"]], [[[2.0, 2.0], [2.0, 3.0]], [\"M\", \"L\"]], [[[3.0, 5.0], [4.0, 5.0]], [\"M\", \"L\"]], [[[3.0, 5.0], [3.0, 4.0]], [\"M\", \"L\"]], [[[3.0, 5.0], [3.0, 6.0]], [\"M\", \"L\"]], [[[4.0, 1.0], [3.0, 1.0]], [\"M\", \"L\"]], [[[4.0, 1.0], [4.0, 2.0]], [\"M\", \"L\"]], [[[6.0, 4.0], [7.0, 4.0]], [\"M\", \"L\"]], [[[6.0, 4.0], [6.0, 5.0]], [\"M\", \"L\"]], [[[3.0, 2.0], [4.0, 2.0]], [\"M\", \"L\"]], [[[3.0, 2.0], [3.0, 1.0]], [\"M\", \"L\"]], [[[3.0, 2.0], [3.0, 3.0]], [\"M\", \"L\"]], [[[2.0, 6.0], [3.0, 6.0]], [\"M\", \"L\"]], [[[8.0, 2.0], [8.0, 3.0]], [\"M\", \"L\"]], [[[7.0, 1.0], [6.0, 1.0]], [\"M\", \"L\"]], [[[7.0, 1.0], [7.0, 0.0]], [\"M\", \"L\"]], [[[4.0, 5.0], [4.0, 6.0]], [\"M\", \"L\"]], [[[6.0, 0.0], [6.0, 1.0]], [\"M\", \"L\"]], [[[6.0, 0.0], [7.0, 0.0]], [\"M\", \"L\"]], [[[7.0, 5.0], [7.0, 4.0]], [\"M\", \"L\"]], [[[7.0, 5.0], [6.0, 5.0]], [\"M\", \"L\"]], [[[2.0, 3.0], [2.0, 4.0]], [\"M\", \"L\"]], [[[2.0, 3.0], [3.0, 3.0]], [\"M\", \"L\"]], [[[4.0, 2.0], [5.0, 2.0]], [\"M\", \"L\"]], [[[4.0, 2.0], [4.0, 3.0]], [\"M\", \"L\"]], [[[3.0, 3.0], [3.0, 4.0]], [\"M\", \"L\"]], [[[3.0, 3.0], [4.0, 3.0]], [\"M\", \"L\"]], [[[5.0, 3.0], [5.0, 2.0]], [\"M\", \"L\"]], [[[5.0, 3.0], [4.0, 3.0]], [\"M\", \"L\"]], [[[4.0, 6.0], [3.0, 6.0]], [\"M\", \"L\"]], [[[7.0, 4.0], [8.0, 4.0]], [\"M\", \"L\"]], [[[8.0, 3.0], [8.0, 4.0]], [\"M\", \"L\"]], [[[3.0, 4.0], [2.0, 4.0]], [\"M\", \"L\"]]], \"edgecolors\": [\"#000000\", \"#000000\", \"#000000\", \"#000000\", \"#0000FF\", \"#0000FF\", \"#000000\", \"#0000FF\", \"#000000\", \"#0000FF\", \"#0000FF\", \"#000000\", \"#000000\", \"#000000\", \"#000000\", \"#0000FF\", \"#000000\", \"#0000FF\", \"#000000\", \"#000000\", \"#000000\", \"#000000\", \"#000000\", \"#000000\", \"#000000\", \"#000000\", \"#0000FF\", \"#0000FF\", \"#000000\", \"#0000FF\", \"#000000\", \"#0000FF\", \"#000000\", \"#000000\", \"#0000FF\", \"#000000\", \"#0000FF\", \"#000000\", \"#000000\", \"#0000FF\", \"#000000\", \"#0000FF\", \"#000000\", \"#000000\", \"#000000\", \"#000000\", \"#000000\", \"#000000\", \"#0000FF\", \"#000000\", \"#0000FF\", \"#000000\", \"#0000FF\", \"#000000\", \"#000000\", \"#000000\", \"#000000\", \"#000000\", \"#000000\", \"#000000\", \"#000000\", \"#000000\", \"#000000\", \"#0000FF\", \"#0000FF\", \"#000000\", \"#000000\", \"#000000\", \"#000000\", \"#0000FF\", \"#000000\", \"#000000\", \"#0000FF\", \"#000000\", \"#000000\", \"#000000\", \"#000000\", \"#000000\", \"#000000\", \"#000000\", \"#0000FF\", \"#000000\", \"#0000FF\", \"#000000\"], \"edgewidths\": [1, 1, 1, 1, 4, 4, 1, 4, 1, 4, 4, 1, 1, 1, 1, 4, 1, 4, 1, 1, 1, 1, 1, 1, 1, 1, 4, 4, 1, 4, 1, 4, 1, 1, 4, 1, 4, 1, 1, 4, 1, 4, 1, 1, 1, 1, 1, 1, 4, 1, 4, 1, 4, 1, 1, 1, 1, 1, 1, 1, 1, 1, 1, 4, 4, 1, 1, 1, 1, 4, 1, 1, 4, 1, 1, 1, 1, 1, 1, 1, 4, 1, 4, 1], \"offsets\": \"data01\", \"yindex\": 1, \"id\": \"el98394479988240\", \"pathtransforms\": [], \"pathcoordinates\": \"data\", \"offsetcoordinates\": \"display\", \"zorder\": 1, \"xindex\": 0, \"alphas\": [null], \"facecolors\": []}, {\"paths\": [[[[7.0, 3.0], [6.0, 3.0]], [\"M\", \"L\"]], [[[7.0, 3.0], [7.0, 4.0]], [\"M\", \"L\"]], [[[7.0, 3.0], [7.0, 2.0]], [\"M\", \"L\"]], [[[3.0, 2.0], [4.0, 2.0]], [\"M\", \"L\"]], [[[3.0, 2.0], [3.0, 1.0]], [\"M\", \"L\"]], [[[3.0, 2.0], [3.0, 3.0]], [\"M\", \"L\"]], [[[6.0, 2.0], [6.0, 3.0]], [\"M\", \"L\"]], [[[6.0, 2.0], [6.0, 1.0]], [\"M\", \"L\"]], [[[6.0, 2.0], [5.0, 2.0]], [\"M\", \"L\"]], [[[6.0, 2.0], [7.0, 2.0]], [\"M\", \"L\"]], [[[5.0, 1.0], [5.0, 2.0]], [\"M\", \"L\"]], [[[5.0, 1.0], [6.0, 1.0]], [\"M\", \"L\"]], [[[5.0, 1.0], [4.0, 1.0]], [\"M\", \"L\"]], [[[7.0, 2.0], [7.0, 1.0]], [\"M\", \"L\"]], [[[5.0, 5.0], [4.0, 5.0]], [\"M\", \"L\"]], [[[5.0, 5.0], [5.0, 4.0]], [\"M\", \"L\"]], [[[5.0, 5.0], [6.0, 5.0]], [\"M\", \"L\"]], [[[4.0, 4.0], [4.0, 5.0]], [\"M\", \"L\"]], [[[4.0, 4.0], [5.0, 4.0]], [\"M\", \"L\"]], [[[4.0, 4.0], [3.0, 4.0]], [\"M\", \"L\"]], [[[4.0, 4.0], [4.0, 3.0]], [\"M\", \"L\"]], [[[6.0, 3.0], [6.0, 4.0]], [\"M\", \"L\"]], [[[6.0, 3.0], [5.0, 3.0]], [\"M\", \"L\"]], [[[3.0, 3.0], [3.0, 4.0]], [\"M\", \"L\"]], [[[3.0, 3.0], [4.0, 3.0]], [\"M\", \"L\"]], [[[5.0, 3.0], [5.0, 4.0]], [\"M\", \"L\"]], [[[5.0, 3.0], [5.0, 2.0]], [\"M\", \"L\"]], [[[5.0, 3.0], [4.0, 3.0]], [\"M\", \"L\"]], [[[4.0, 1.0], [3.0, 1.0]], [\"M\", \"L\"]], [[[4.0, 1.0], [4.0, 2.0]], [\"M\", \"L\"]], [[[6.0, 4.0], [7.0, 4.0]], [\"M\", \"L\"]], [[[6.0, 4.0], [5.0, 4.0]], [\"M\", \"L\"]], [[[6.0, 4.0], [6.0, 5.0]], [\"M\", \"L\"]], [[[7.0, 1.0], [6.0, 1.0]], [\"M\", \"L\"]], [[[4.0, 5.0], [3.0, 5.0]], [\"M\", \"L\"]], [[[7.0, 5.0], [7.0, 4.0]], [\"M\", \"L\"]], [[[7.0, 5.0], [6.0, 5.0]], [\"M\", \"L\"]], [[[4.0, 2.0], [5.0, 2.0]], [\"M\", \"L\"]], [[[4.0, 2.0], [4.0, 3.0]], [\"M\", \"L\"]], [[[3.0, 5.0], [3.0, 4.0]], [\"M\", \"L\"]]], \"edgecolors\": [\"#FF0000\"], \"edgewidths\": [4], \"offsets\": \"data01\", \"yindex\": 0, \"id\": \"el98394481617104\", \"pathtransforms\": [], \"pathcoordinates\": \"data\", \"offsetcoordinates\": \"display\", \"zorder\": 1, \"xindex\": 0, \"alphas\": [null], \"facecolors\": []}], \"xscale\": \"linear\", \"bbox\": [0.22187499999999999, 0.125, 0.58125000000000004, 0.77500000000000002]}], \"height\": 480.0, \"width\": 640.0, \"plugins\": [{\"type\": \"reset\"}, {\"enabled\": false, \"button\": true, \"type\": \"zoom\"}, {\"enabled\": false, \"button\": true, \"type\": \"boxzoom\"}], \"data\": {\"data01\": [[0.0, 0.0]]}, \"id\": \"el98394466493520\"});\n",
       "      });\n",
       "    });\n",
       "}else{\n",
       "    // require.js not available: dynamically load d3 & mpld3\n",
       "    mpld3_load_lib(\"https://mpld3.github.io/js/d3.v3.min.js\", function(){\n",
       "         mpld3_load_lib(\"https://mpld3.github.io/js/mpld3.v0.2.js\", function(){\n",
       "                 \n",
       "                 mpld3.draw_figure(\"fig_el983944664935207294909113\", {\"axes\": [{\"xlim\": [1.0, 9.0], \"yscale\": \"linear\", \"axesbg\": \"none\", \"texts\": [], \"zoomable\": true, \"images\": [], \"xdomain\": [1.0, 9.0], \"ylim\": [-1.0, 7.0], \"paths\": [], \"sharey\": [], \"sharex\": [], \"axesbgalpha\": null, \"axes\": [{\"scale\": \"linear\", \"tickformat\": null, \"grid\": {\"gridOn\": false}, \"fontsize\": 10.0, \"position\": \"bottom\", \"nticks\": 9, \"tickvalues\": null}, {\"scale\": \"linear\", \"tickformat\": null, \"grid\": {\"gridOn\": false}, \"fontsize\": 10.0, \"position\": \"left\", \"nticks\": 9, \"tickvalues\": null}], \"lines\": [], \"markers\": [], \"id\": \"el98394460320464\", \"ydomain\": [-1.0, 7.0], \"collections\": [{\"paths\": [[[[7.0, 3.0], [6.0, 3.0]], [\"M\", \"L\"]], [[[7.0, 3.0], [7.0, 4.0]], [\"M\", \"L\"]], [[[7.0, 3.0], [8.0, 3.0]], [\"M\", \"L\"]], [[[7.0, 3.0], [7.0, 2.0]], [\"M\", \"L\"]], [[[6.0, 6.0], [5.0, 6.0]], [\"M\", \"L\"]], [[[6.0, 6.0], [7.0, 6.0]], [\"M\", \"L\"]], [[[6.0, 6.0], [6.0, 5.0]], [\"M\", \"L\"]], [[[5.0, 6.0], [4.0, 6.0]], [\"M\", \"L\"]], [[[5.0, 6.0], [5.0, 5.0]], [\"M\", \"L\"]], [[[8.0, 0.0], [8.0, 1.0]], [\"M\", \"L\"]], [[[8.0, 0.0], [7.0, 0.0]], [\"M\", \"L\"]], [[[5.0, 4.0], [6.0, 4.0]], [\"M\", \"L\"]], [[[5.0, 4.0], [4.0, 4.0]], [\"M\", \"L\"]], [[[5.0, 4.0], [5.0, 5.0]], [\"M\", \"L\"]], [[[5.0, 4.0], [5.0, 3.0]], [\"M\", \"L\"]], [[[2.0, 1.0], [2.0, 0.0]], [\"M\", \"L\"]], [[[2.0, 1.0], [3.0, 1.0]], [\"M\", \"L\"]], [[[2.0, 1.0], [2.0, 2.0]], [\"M\", \"L\"]], [[[6.0, 2.0], [6.0, 3.0]], [\"M\", \"L\"]], [[[6.0, 2.0], [6.0, 1.0]], [\"M\", \"L\"]], [[[6.0, 2.0], [5.0, 2.0]], [\"M\", \"L\"]], [[[6.0, 2.0], [7.0, 2.0]], [\"M\", \"L\"]], [[[5.0, 1.0], [4.0, 1.0]], [\"M\", \"L\"]], [[[5.0, 1.0], [6.0, 1.0]], [\"M\", \"L\"]], [[[5.0, 1.0], [5.0, 2.0]], [\"M\", \"L\"]], [[[5.0, 1.0], [5.0, 0.0]], [\"M\", \"L\"]], [[[2.0, 5.0], [2.0, 6.0]], [\"M\", \"L\"]], [[[2.0, 5.0], [2.0, 4.0]], [\"M\", \"L\"]], [[[2.0, 5.0], [3.0, 5.0]], [\"M\", \"L\"]], [[[8.0, 5.0], [8.0, 6.0]], [\"M\", \"L\"]], [[[8.0, 5.0], [7.0, 5.0]], [\"M\", \"L\"]], [[[8.0, 5.0], [8.0, 4.0]], [\"M\", \"L\"]], [[[7.0, 2.0], [8.0, 2.0]], [\"M\", \"L\"]], [[[7.0, 2.0], [7.0, 1.0]], [\"M\", \"L\"]], [[[4.0, 0.0], [3.0, 0.0]], [\"M\", \"L\"]], [[[4.0, 0.0], [4.0, 1.0]], [\"M\", \"L\"]], [[[4.0, 0.0], [5.0, 0.0]], [\"M\", \"L\"]], [[[5.0, 5.0], [4.0, 5.0]], [\"M\", \"L\"]], [[[5.0, 5.0], [6.0, 5.0]], [\"M\", \"L\"]], [[[8.0, 1.0], [8.0, 2.0]], [\"M\", \"L\"]], [[[8.0, 1.0], [7.0, 1.0]], [\"M\", \"L\"]], [[[7.0, 6.0], [8.0, 6.0]], [\"M\", \"L\"]], [[[7.0, 6.0], [7.0, 5.0]], [\"M\", \"L\"]], [[[4.0, 4.0], [4.0, 5.0]], [\"M\", \"L\"]], [[[4.0, 4.0], [3.0, 4.0]], [\"M\", \"L\"]], [[[4.0, 4.0], [4.0, 3.0]], [\"M\", \"L\"]], [[[6.0, 3.0], [5.0, 3.0]], [\"M\", \"L\"]], [[[6.0, 3.0], [6.0, 4.0]], [\"M\", \"L\"]], [[[3.0, 0.0], [2.0, 0.0]], [\"M\", \"L\"]], [[[3.0, 0.0], [3.0, 1.0]], [\"M\", \"L\"]], [[[5.0, 0.0], [6.0, 0.0]], [\"M\", \"L\"]], [[[2.0, 2.0], [3.0, 2.0]], [\"M\", \"L\"]], [[[2.0, 2.0], [2.0, 3.0]], [\"M\", \"L\"]], [[[3.0, 5.0], [4.0, 5.0]], [\"M\", \"L\"]], [[[3.0, 5.0], [3.0, 4.0]], [\"M\", \"L\"]], [[[3.0, 5.0], [3.0, 6.0]], [\"M\", \"L\"]], [[[4.0, 1.0], [3.0, 1.0]], [\"M\", \"L\"]], [[[4.0, 1.0], [4.0, 2.0]], [\"M\", \"L\"]], [[[6.0, 4.0], [7.0, 4.0]], [\"M\", \"L\"]], [[[6.0, 4.0], [6.0, 5.0]], [\"M\", \"L\"]], [[[3.0, 2.0], [4.0, 2.0]], [\"M\", \"L\"]], [[[3.0, 2.0], [3.0, 1.0]], [\"M\", \"L\"]], [[[3.0, 2.0], [3.0, 3.0]], [\"M\", \"L\"]], [[[2.0, 6.0], [3.0, 6.0]], [\"M\", \"L\"]], [[[8.0, 2.0], [8.0, 3.0]], [\"M\", \"L\"]], [[[7.0, 1.0], [6.0, 1.0]], [\"M\", \"L\"]], [[[7.0, 1.0], [7.0, 0.0]], [\"M\", \"L\"]], [[[4.0, 5.0], [4.0, 6.0]], [\"M\", \"L\"]], [[[6.0, 0.0], [6.0, 1.0]], [\"M\", \"L\"]], [[[6.0, 0.0], [7.0, 0.0]], [\"M\", \"L\"]], [[[7.0, 5.0], [7.0, 4.0]], [\"M\", \"L\"]], [[[7.0, 5.0], [6.0, 5.0]], [\"M\", \"L\"]], [[[2.0, 3.0], [2.0, 4.0]], [\"M\", \"L\"]], [[[2.0, 3.0], [3.0, 3.0]], [\"M\", \"L\"]], [[[4.0, 2.0], [5.0, 2.0]], [\"M\", \"L\"]], [[[4.0, 2.0], [4.0, 3.0]], [\"M\", \"L\"]], [[[3.0, 3.0], [3.0, 4.0]], [\"M\", \"L\"]], [[[3.0, 3.0], [4.0, 3.0]], [\"M\", \"L\"]], [[[5.0, 3.0], [5.0, 2.0]], [\"M\", \"L\"]], [[[5.0, 3.0], [4.0, 3.0]], [\"M\", \"L\"]], [[[4.0, 6.0], [3.0, 6.0]], [\"M\", \"L\"]], [[[7.0, 4.0], [8.0, 4.0]], [\"M\", \"L\"]], [[[8.0, 3.0], [8.0, 4.0]], [\"M\", \"L\"]], [[[3.0, 4.0], [2.0, 4.0]], [\"M\", \"L\"]]], \"edgecolors\": [\"#000000\", \"#000000\", \"#000000\", \"#000000\", \"#0000FF\", \"#0000FF\", \"#000000\", \"#0000FF\", \"#000000\", \"#0000FF\", \"#0000FF\", \"#000000\", \"#000000\", \"#000000\", \"#000000\", \"#0000FF\", \"#000000\", \"#0000FF\", \"#000000\", \"#000000\", \"#000000\", \"#000000\", \"#000000\", \"#000000\", \"#000000\", \"#000000\", \"#0000FF\", \"#0000FF\", \"#000000\", \"#0000FF\", \"#000000\", \"#0000FF\", \"#000000\", \"#000000\", \"#0000FF\", \"#000000\", \"#0000FF\", \"#000000\", \"#000000\", \"#0000FF\", \"#000000\", \"#0000FF\", \"#000000\", \"#000000\", \"#000000\", \"#000000\", \"#000000\", \"#000000\", \"#0000FF\", \"#000000\", \"#0000FF\", \"#000000\", \"#0000FF\", \"#000000\", \"#000000\", \"#000000\", \"#000000\", \"#000000\", \"#000000\", \"#000000\", \"#000000\", \"#000000\", \"#000000\", \"#0000FF\", \"#0000FF\", \"#000000\", \"#000000\", \"#000000\", \"#000000\", \"#0000FF\", \"#000000\", \"#000000\", \"#0000FF\", \"#000000\", \"#000000\", \"#000000\", \"#000000\", \"#000000\", \"#000000\", \"#000000\", \"#0000FF\", \"#000000\", \"#0000FF\", \"#000000\"], \"edgewidths\": [1, 1, 1, 1, 4, 4, 1, 4, 1, 4, 4, 1, 1, 1, 1, 4, 1, 4, 1, 1, 1, 1, 1, 1, 1, 1, 4, 4, 1, 4, 1, 4, 1, 1, 4, 1, 4, 1, 1, 4, 1, 4, 1, 1, 1, 1, 1, 1, 4, 1, 4, 1, 4, 1, 1, 1, 1, 1, 1, 1, 1, 1, 1, 4, 4, 1, 1, 1, 1, 4, 1, 1, 4, 1, 1, 1, 1, 1, 1, 1, 4, 1, 4, 1], \"offsets\": \"data01\", \"yindex\": 1, \"id\": \"el98394479988240\", \"pathtransforms\": [], \"pathcoordinates\": \"data\", \"offsetcoordinates\": \"display\", \"zorder\": 1, \"xindex\": 0, \"alphas\": [null], \"facecolors\": []}, {\"paths\": [[[[7.0, 3.0], [6.0, 3.0]], [\"M\", \"L\"]], [[[7.0, 3.0], [7.0, 4.0]], [\"M\", \"L\"]], [[[7.0, 3.0], [7.0, 2.0]], [\"M\", \"L\"]], [[[3.0, 2.0], [4.0, 2.0]], [\"M\", \"L\"]], [[[3.0, 2.0], [3.0, 1.0]], [\"M\", \"L\"]], [[[3.0, 2.0], [3.0, 3.0]], [\"M\", \"L\"]], [[[6.0, 2.0], [6.0, 3.0]], [\"M\", \"L\"]], [[[6.0, 2.0], [6.0, 1.0]], [\"M\", \"L\"]], [[[6.0, 2.0], [5.0, 2.0]], [\"M\", \"L\"]], [[[6.0, 2.0], [7.0, 2.0]], [\"M\", \"L\"]], [[[5.0, 1.0], [5.0, 2.0]], [\"M\", \"L\"]], [[[5.0, 1.0], [6.0, 1.0]], [\"M\", \"L\"]], [[[5.0, 1.0], [4.0, 1.0]], [\"M\", \"L\"]], [[[7.0, 2.0], [7.0, 1.0]], [\"M\", \"L\"]], [[[5.0, 5.0], [4.0, 5.0]], [\"M\", \"L\"]], [[[5.0, 5.0], [5.0, 4.0]], [\"M\", \"L\"]], [[[5.0, 5.0], [6.0, 5.0]], [\"M\", \"L\"]], [[[4.0, 4.0], [4.0, 5.0]], [\"M\", \"L\"]], [[[4.0, 4.0], [5.0, 4.0]], [\"M\", \"L\"]], [[[4.0, 4.0], [3.0, 4.0]], [\"M\", \"L\"]], [[[4.0, 4.0], [4.0, 3.0]], [\"M\", \"L\"]], [[[6.0, 3.0], [6.0, 4.0]], [\"M\", \"L\"]], [[[6.0, 3.0], [5.0, 3.0]], [\"M\", \"L\"]], [[[3.0, 3.0], [3.0, 4.0]], [\"M\", \"L\"]], [[[3.0, 3.0], [4.0, 3.0]], [\"M\", \"L\"]], [[[5.0, 3.0], [5.0, 4.0]], [\"M\", \"L\"]], [[[5.0, 3.0], [5.0, 2.0]], [\"M\", \"L\"]], [[[5.0, 3.0], [4.0, 3.0]], [\"M\", \"L\"]], [[[4.0, 1.0], [3.0, 1.0]], [\"M\", \"L\"]], [[[4.0, 1.0], [4.0, 2.0]], [\"M\", \"L\"]], [[[6.0, 4.0], [7.0, 4.0]], [\"M\", \"L\"]], [[[6.0, 4.0], [5.0, 4.0]], [\"M\", \"L\"]], [[[6.0, 4.0], [6.0, 5.0]], [\"M\", \"L\"]], [[[7.0, 1.0], [6.0, 1.0]], [\"M\", \"L\"]], [[[4.0, 5.0], [3.0, 5.0]], [\"M\", \"L\"]], [[[7.0, 5.0], [7.0, 4.0]], [\"M\", \"L\"]], [[[7.0, 5.0], [6.0, 5.0]], [\"M\", \"L\"]], [[[4.0, 2.0], [5.0, 2.0]], [\"M\", \"L\"]], [[[4.0, 2.0], [4.0, 3.0]], [\"M\", \"L\"]], [[[3.0, 5.0], [3.0, 4.0]], [\"M\", \"L\"]]], \"edgecolors\": [\"#FF0000\"], \"edgewidths\": [4], \"offsets\": \"data01\", \"yindex\": 0, \"id\": \"el98394481617104\", \"pathtransforms\": [], \"pathcoordinates\": \"data\", \"offsetcoordinates\": \"display\", \"zorder\": 1, \"xindex\": 0, \"alphas\": [null], \"facecolors\": []}], \"xscale\": \"linear\", \"bbox\": [0.22187499999999999, 0.125, 0.58125000000000004, 0.77500000000000002]}], \"height\": 480.0, \"width\": 640.0, \"plugins\": [{\"type\": \"reset\"}, {\"enabled\": false, \"button\": true, \"type\": \"zoom\"}, {\"enabled\": false, \"button\": true, \"type\": \"boxzoom\"}], \"data\": {\"data01\": [[0.0, 0.0]]}, \"id\": \"el98394466493520\"});\n",
       "            })\n",
       "         });\n",
       "}\n",
       "</script>"
      ],
      "text/plain": [
       "<matplotlib.figure.Figure at 0x10a394850>"
      ]
     },
     "metadata": {},
     "output_type": "display_data"
    }
   ],
   "source": [
    "print myG.inner_facelist\n",
    "print myG.outerface\n",
    "\n",
    "for e in myG.outerface.edges:\n",
    "    print str(e) + \" is road? \" +  str(e.road)\n",
    "\n",
    "#myG = simpleG.copy()\n",
    "myG.define_roads()\n",
    "myG.define_interior_parcels()\n",
    "\n",
    "re = [e for e in myG.myedges() if e.road]\n",
    "print myG.road_nodes\n",
    "\n",
    "print \"road edges are: \"\n",
    "print re\n",
    "\n",
    "myG.plot_roads()"
   ]
  },
  {
   "cell_type": "code",
   "execution_count": 225,
   "metadata": {
    "collapsed": false
   },
   "outputs": [
    {
     "ename": "NameError",
     "evalue": "name 'result' is not defined",
     "output_type": "error",
     "traceback": [
      "\u001b[0;31m---------------------------------------------------------------------------\u001b[0m",
      "\u001b[0;31mNameError\u001b[0m                                 Traceback (most recent call last)",
      "\u001b[0;32m<ipython-input-225-a5b1e83cd027>\u001b[0m in \u001b[0;36m<module>\u001b[0;34m()\u001b[0m\n\u001b[0;32m----> 1\u001b[0;31m \u001b[0mresult\u001b[0m\u001b[0;34m\u001b[0m\u001b[0m\n\u001b[0m",
      "\u001b[0;31mNameError\u001b[0m: name 'result' is not defined"
     ]
    }
   ],
   "source": [
    "result"
   ]
  },
  {
   "cell_type": "code",
   "execution_count": null,
   "metadata": {
    "collapsed": false
   },
   "outputs": [],
   "source": []
  },
  {
   "cell_type": "code",
   "execution_count": null,
   "metadata": {
    "collapsed": false
   },
   "outputs": [],
   "source": []
  },
  {
   "cell_type": "code",
   "execution_count": 223,
   "metadata": {
    "collapsed": false
   },
   "outputs": [
    {
     "name": "stdout",
     "output_type": "stream",
     "text": [
      "Begin w 16 Interior Parcels\n",
      "Cur max depth is 5, 4 parcels \n",
      "Shortest paths found for 4 parcels\n",
      "12 interior parcels left\n",
      "Cur max depth is 3, 12 parcels \n",
      "Shortest paths found for 12 parcels\n",
      "11 interior parcels left\n",
      "Cur max depth is 3, 11 parcels \n",
      "Shortest paths found for 0 parcels\n",
      "10 interior parcels left\n",
      "Cur max depth is 3, 10 parcels \n",
      "Shortest paths found for 0 parcels\n",
      "8 interior parcels left\n",
      "Cur max depth is 3, 8 parcels \n",
      "Shortest paths found for 0 parcels\n",
      "6 interior parcels left\n",
      "Cur max depth is 3, 6 parcels \n",
      "Shortest paths found for 0 parcels\n",
      "5 interior parcels left\n",
      "Cur max depth is 3, 5 parcels \n",
      "Shortest paths found for 0 parcels\n",
      "4 interior parcels left\n",
      "Cur max depth is 3, 4 parcels \n",
      "Shortest paths found for 0 parcels\n",
      "2 interior parcels left\n",
      "Cur max depth is 3, 2 parcels \n",
      "Shortest paths found for 0 parcels\n",
      "0 interior parcels left\n"
     ]
    }
   ],
   "source": [
    "nr, b = mgh.build_all_roads(myG, alpha = 16, barriers = False, wholepath=True)\n",
    "\n"
   ]
  },
  {
   "cell_type": "code",
   "execution_count": 224,
   "metadata": {
    "collapsed": false
   },
   "outputs": [
    {
     "data": {
      "image/png": "[encoded data removed]",
      "text/html": [
       "\n",
       "\n",
       "<style>\n",
       "\n",
       "</style>\n",
       "\n",
       "<div id=\"fig_el983944816935201771207828\"></div>\n",
       "<script>\n",
       "function mpld3_load_lib(url, callback){\n",
       "  var s = document.createElement('script');\n",
       "  s.src = url;\n",
       "  s.async = true;\n",
       "  s.onreadystatechange = s.onload = callback;\n",
       "  s.onerror = function(){console.warn(\"failed to load library \" + url);};\n",
       "  document.getElementsByTagName(\"head\")[0].appendChild(s);\n",
       "}\n",
       "\n",
       "if(typeof(mpld3) !== \"undefined\" && mpld3._mpld3IsLoaded){\n",
       "   // already loaded: just create the figure\n",
       "   !function(mpld3){\n",
       "       \n",
       "       mpld3.draw_figure(\"fig_el983944816935201771207828\", {\"axes\": [{\"xlim\": [1.0, 9.0], \"yscale\": \"linear\", \"axesbg\": \"none\", \"texts\": [], \"zoomable\": true, \"images\": [], \"xdomain\": [1.0, 9.0], \"ylim\": [-1.0, 7.0], \"paths\": [], \"sharey\": [], \"sharex\": [], \"axesbgalpha\": null, \"axes\": [{\"scale\": \"linear\", \"tickformat\": null, \"grid\": {\"gridOn\": false}, \"fontsize\": 10.0, \"position\": \"bottom\", \"nticks\": 9, \"tickvalues\": null}, {\"scale\": \"linear\", \"tickformat\": null, \"grid\": {\"gridOn\": false}, \"fontsize\": 10.0, \"position\": \"left\", \"nticks\": 9, \"tickvalues\": null}], \"lines\": [], \"markers\": [], \"id\": \"el98394444466256\", \"ydomain\": [-1.0, 7.0], \"collections\": [{\"paths\": [[[[7.0, 3.0], [6.0, 3.0]], [\"M\", \"L\"]], [[[7.0, 3.0], [7.0, 4.0]], [\"M\", \"L\"]], [[[7.0, 3.0], [8.0, 3.0]], [\"M\", \"L\"]], [[[7.0, 3.0], [7.0, 2.0]], [\"M\", \"L\"]], [[[6.0, 6.0], [5.0, 6.0]], [\"M\", \"L\"]], [[[6.0, 6.0], [7.0, 6.0]], [\"M\", \"L\"]], [[[6.0, 6.0], [6.0, 5.0]], [\"M\", \"L\"]], [[[5.0, 6.0], [4.0, 6.0]], [\"M\", \"L\"]], [[[5.0, 6.0], [5.0, 5.0]], [\"M\", \"L\"]], [[[8.0, 0.0], [8.0, 1.0]], [\"M\", \"L\"]], [[[8.0, 0.0], [7.0, 0.0]], [\"M\", \"L\"]], [[[5.0, 4.0], [6.0, 4.0]], [\"M\", \"L\"]], [[[5.0, 4.0], [4.0, 4.0]], [\"M\", \"L\"]], [[[5.0, 4.0], [5.0, 5.0]], [\"M\", \"L\"]], [[[5.0, 4.0], [5.0, 3.0]], [\"M\", \"L\"]], [[[2.0, 1.0], [2.0, 0.0]], [\"M\", \"L\"]], [[[2.0, 1.0], [3.0, 1.0]], [\"M\", \"L\"]], [[[2.0, 1.0], [2.0, 2.0]], [\"M\", \"L\"]], [[[6.0, 2.0], [6.0, 3.0]], [\"M\", \"L\"]], [[[6.0, 2.0], [6.0, 1.0]], [\"M\", \"L\"]], [[[6.0, 2.0], [5.0, 2.0]], [\"M\", \"L\"]], [[[6.0, 2.0], [7.0, 2.0]], [\"M\", \"L\"]], [[[5.0, 1.0], [4.0, 1.0]], [\"M\", \"L\"]], [[[5.0, 1.0], [6.0, 1.0]], [\"M\", \"L\"]], [[[5.0, 1.0], [5.0, 2.0]], [\"M\", \"L\"]], [[[5.0, 1.0], [5.0, 0.0]], [\"M\", \"L\"]], [[[2.0, 5.0], [2.0, 6.0]], [\"M\", \"L\"]], [[[2.0, 5.0], [2.0, 4.0]], [\"M\", \"L\"]], [[[2.0, 5.0], [3.0, 5.0]], [\"M\", \"L\"]], [[[8.0, 5.0], [8.0, 6.0]], [\"M\", \"L\"]], [[[8.0, 5.0], [7.0, 5.0]], [\"M\", \"L\"]], [[[8.0, 5.0], [8.0, 4.0]], [\"M\", \"L\"]], [[[7.0, 2.0], [8.0, 2.0]], [\"M\", \"L\"]], [[[7.0, 2.0], [7.0, 1.0]], [\"M\", \"L\"]], [[[4.0, 0.0], [3.0, 0.0]], [\"M\", \"L\"]], [[[4.0, 0.0], [4.0, 1.0]], [\"M\", \"L\"]], [[[4.0, 0.0], [5.0, 0.0]], [\"M\", \"L\"]], [[[5.0, 5.0], [4.0, 5.0]], [\"M\", \"L\"]], [[[5.0, 5.0], [6.0, 5.0]], [\"M\", \"L\"]], [[[8.0, 1.0], [8.0, 2.0]], [\"M\", \"L\"]], [[[8.0, 1.0], [7.0, 1.0]], [\"M\", \"L\"]], [[[7.0, 6.0], [8.0, 6.0]], [\"M\", \"L\"]], [[[7.0, 6.0], [7.0, 5.0]], [\"M\", \"L\"]], [[[4.0, 4.0], [4.0, 5.0]], [\"M\", \"L\"]], [[[4.0, 4.0], [3.0, 4.0]], [\"M\", \"L\"]], [[[4.0, 4.0], [4.0, 3.0]], [\"M\", \"L\"]], [[[6.0, 3.0], [5.0, 3.0]], [\"M\", \"L\"]], [[[6.0, 3.0], [6.0, 4.0]], [\"M\", \"L\"]], [[[3.0, 0.0], [2.0, 0.0]], [\"M\", \"L\"]], [[[3.0, 0.0], [3.0, 1.0]], [\"M\", \"L\"]], [[[5.0, 0.0], [6.0, 0.0]], [\"M\", \"L\"]], [[[2.0, 2.0], [3.0, 2.0]], [\"M\", \"L\"]], [[[2.0, 2.0], [2.0, 3.0]], [\"M\", \"L\"]], [[[3.0, 5.0], [4.0, 5.0]], [\"M\", \"L\"]], [[[3.0, 5.0], [3.0, 4.0]], [\"M\", \"L\"]], [[[3.0, 5.0], [3.0, 6.0]], [\"M\", \"L\"]], [[[4.0, 1.0], [3.0, 1.0]], [\"M\", \"L\"]], [[[4.0, 1.0], [4.0, 2.0]], [\"M\", \"L\"]], [[[6.0, 4.0], [7.0, 4.0]], [\"M\", \"L\"]], [[[6.0, 4.0], [6.0, 5.0]], [\"M\", \"L\"]], [[[3.0, 2.0], [4.0, 2.0]], [\"M\", \"L\"]], [[[3.0, 2.0], [3.0, 1.0]], [\"M\", \"L\"]], [[[3.0, 2.0], [3.0, 3.0]], [\"M\", \"L\"]], [[[2.0, 6.0], [3.0, 6.0]], [\"M\", \"L\"]], [[[8.0, 2.0], [8.0, 3.0]], [\"M\", \"L\"]], [[[7.0, 1.0], [6.0, 1.0]], [\"M\", \"L\"]], [[[7.0, 1.0], [7.0, 0.0]], [\"M\", \"L\"]], [[[4.0, 5.0], [4.0, 6.0]], [\"M\", \"L\"]], [[[6.0, 0.0], [6.0, 1.0]], [\"M\", \"L\"]], [[[6.0, 0.0], [7.0, 0.0]], [\"M\", \"L\"]], [[[7.0, 5.0], [7.0, 4.0]], [\"M\", \"L\"]], [[[7.0, 5.0], [6.0, 5.0]], [\"M\", \"L\"]], [[[2.0, 3.0], [2.0, 4.0]], [\"M\", \"L\"]], [[[2.0, 3.0], [3.0, 3.0]], [\"M\", \"L\"]], [[[4.0, 2.0], [5.0, 2.0]], [\"M\", \"L\"]], [[[4.0, 2.0], [4.0, 3.0]], [\"M\", \"L\"]], [[[3.0, 3.0], [3.0, 4.0]], [\"M\", \"L\"]], [[[3.0, 3.0], [4.0, 3.0]], [\"M\", \"L\"]], [[[5.0, 3.0], [5.0, 2.0]], [\"M\", \"L\"]], [[[5.0, 3.0], [4.0, 3.0]], [\"M\", \"L\"]], [[[4.0, 6.0], [3.0, 6.0]], [\"M\", \"L\"]], [[[7.0, 4.0], [8.0, 4.0]], [\"M\", \"L\"]], [[[8.0, 3.0], [8.0, 4.0]], [\"M\", \"L\"]], [[[3.0, 4.0], [2.0, 4.0]], [\"M\", \"L\"]]], \"edgecolors\": [\"#000000\", \"#000000\", \"#0000FF\", \"#000000\", \"#0000FF\", \"#0000FF\", \"#000000\", \"#0000FF\", \"#0000FF\", \"#0000FF\", \"#0000FF\", \"#000000\", \"#000000\", \"#0000FF\", \"#0000FF\", \"#0000FF\", \"#0000FF\", \"#0000FF\", \"#000000\", \"#000000\", \"#000000\", \"#000000\", \"#000000\", \"#000000\", \"#000000\", \"#0000FF\", \"#0000FF\", \"#0000FF\", \"#000000\", \"#0000FF\", \"#000000\", \"#0000FF\", \"#0000FF\", \"#000000\", \"#0000FF\", \"#000000\", \"#0000FF\", \"#0000FF\", \"#000000\", \"#0000FF\", \"#000000\", \"#0000FF\", \"#0000FF\", \"#000000\", \"#000000\", \"#000000\", \"#000000\", \"#000000\", \"#0000FF\", \"#000000\", \"#0000FF\", \"#000000\", \"#0000FF\", \"#000000\", \"#000000\", \"#000000\", \"#000000\", \"#000000\", \"#000000\", \"#000000\", \"#000000\", \"#000000\", \"#000000\", \"#0000FF\", \"#0000FF\", \"#000000\", \"#000000\", \"#000000\", \"#000000\", \"#0000FF\", \"#000000\", \"#000000\", \"#0000FF\", \"#0000FF\", \"#000000\", \"#000000\", \"#000000\", \"#000000\", \"#000000\", \"#000000\", \"#0000FF\", \"#000000\", \"#0000FF\", \"#000000\"], \"edgewidths\": [1, 1, 4, 1, 4, 4, 1, 4, 4, 4, 4, 1, 1, 4, 4, 4, 4, 4, 1, 1, 1, 1, 1, 1, 1, 4, 4, 4, 1, 4, 1, 4, 4, 1, 4, 1, 4, 4, 1, 4, 1, 4, 4, 1, 1, 1, 1, 1, 4, 1, 4, 1, 4, 1, 1, 1, 1, 1, 1, 1, 1, 1, 1, 4, 4, 1, 1, 1, 1, 4, 1, 1, 4, 4, 1, 1, 1, 1, 1, 1, 4, 1, 4, 1], \"offsets\": \"data01\", \"yindex\": 1, \"id\": \"el98394479792912\", \"pathtransforms\": [], \"pathcoordinates\": \"data\", \"offsetcoordinates\": \"display\", \"zorder\": 1, \"xindex\": 0, \"alphas\": [null], \"facecolors\": []}], \"xscale\": \"linear\", \"bbox\": [0.22187499999999999, 0.125, 0.58125000000000004, 0.77500000000000002]}], \"height\": 480.0, \"width\": 640.0, \"plugins\": [{\"type\": \"reset\"}, {\"enabled\": false, \"button\": true, \"type\": \"zoom\"}, {\"enabled\": false, \"button\": true, \"type\": \"boxzoom\"}], \"data\": {\"data01\": [[0.0, 0.0]]}, \"id\": \"el98394481693520\"});\n",
       "   }(mpld3);\n",
       "}else if(typeof define === \"function\" && define.amd){\n",
       "   // require.js is available: use it to load d3/mpld3\n",
       "   require.config({paths: {d3: \"https://mpld3.github.io/js/d3.v3.min\"}});\n",
       "   require([\"d3\"], function(d3){\n",
       "      window.d3 = d3;\n",
       "      mpld3_load_lib(\"https://mpld3.github.io/js/mpld3.v0.2.js\", function(){\n",
       "         \n",
       "         mpld3.draw_figure(\"fig_el983944816935201771207828\", {\"axes\": [{\"xlim\": [1.0, 9.0], \"yscale\": \"linear\", \"axesbg\": \"none\", \"texts\": [], \"zoomable\": true, \"images\": [], \"xdomain\": [1.0, 9.0], \"ylim\": [-1.0, 7.0], \"paths\": [], \"sharey\": [], \"sharex\": [], \"axesbgalpha\": null, \"axes\": [{\"scale\": \"linear\", \"tickformat\": null, \"grid\": {\"gridOn\": false}, \"fontsize\": 10.0, \"position\": \"bottom\", \"nticks\": 9, \"tickvalues\": null}, {\"scale\": \"linear\", \"tickformat\": null, \"grid\": {\"gridOn\": false}, \"fontsize\": 10.0, \"position\": \"left\", \"nticks\": 9, \"tickvalues\": null}], \"lines\": [], \"markers\": [], \"id\": \"el98394444466256\", \"ydomain\": [-1.0, 7.0], \"collections\": [{\"paths\": [[[[7.0, 3.0], [6.0, 3.0]], [\"M\", \"L\"]], [[[7.0, 3.0], [7.0, 4.0]], [\"M\", \"L\"]], [[[7.0, 3.0], [8.0, 3.0]], [\"M\", \"L\"]], [[[7.0, 3.0], [7.0, 2.0]], [\"M\", \"L\"]], [[[6.0, 6.0], [5.0, 6.0]], [\"M\", \"L\"]], [[[6.0, 6.0], [7.0, 6.0]], [\"M\", \"L\"]], [[[6.0, 6.0], [6.0, 5.0]], [\"M\", \"L\"]], [[[5.0, 6.0], [4.0, 6.0]], [\"M\", \"L\"]], [[[5.0, 6.0], [5.0, 5.0]], [\"M\", \"L\"]], [[[8.0, 0.0], [8.0, 1.0]], [\"M\", \"L\"]], [[[8.0, 0.0], [7.0, 0.0]], [\"M\", \"L\"]], [[[5.0, 4.0], [6.0, 4.0]], [\"M\", \"L\"]], [[[5.0, 4.0], [4.0, 4.0]], [\"M\", \"L\"]], [[[5.0, 4.0], [5.0, 5.0]], [\"M\", \"L\"]], [[[5.0, 4.0], [5.0, 3.0]], [\"M\", \"L\"]], [[[2.0, 1.0], [2.0, 0.0]], [\"M\", \"L\"]], [[[2.0, 1.0], [3.0, 1.0]], [\"M\", \"L\"]], [[[2.0, 1.0], [2.0, 2.0]], [\"M\", \"L\"]], [[[6.0, 2.0], [6.0, 3.0]], [\"M\", \"L\"]], [[[6.0, 2.0], [6.0, 1.0]], [\"M\", \"L\"]], [[[6.0, 2.0], [5.0, 2.0]], [\"M\", \"L\"]], [[[6.0, 2.0], [7.0, 2.0]], [\"M\", \"L\"]], [[[5.0, 1.0], [4.0, 1.0]], [\"M\", \"L\"]], [[[5.0, 1.0], [6.0, 1.0]], [\"M\", \"L\"]], [[[5.0, 1.0], [5.0, 2.0]], [\"M\", \"L\"]], [[[5.0, 1.0], [5.0, 0.0]], [\"M\", \"L\"]], [[[2.0, 5.0], [2.0, 6.0]], [\"M\", \"L\"]], [[[2.0, 5.0], [2.0, 4.0]], [\"M\", \"L\"]], [[[2.0, 5.0], [3.0, 5.0]], [\"M\", \"L\"]], [[[8.0, 5.0], [8.0, 6.0]], [\"M\", \"L\"]], [[[8.0, 5.0], [7.0, 5.0]], [\"M\", \"L\"]], [[[8.0, 5.0], [8.0, 4.0]], [\"M\", \"L\"]], [[[7.0, 2.0], [8.0, 2.0]], [\"M\", \"L\"]], [[[7.0, 2.0], [7.0, 1.0]], [\"M\", \"L\"]], [[[4.0, 0.0], [3.0, 0.0]], [\"M\", \"L\"]], [[[4.0, 0.0], [4.0, 1.0]], [\"M\", \"L\"]], [[[4.0, 0.0], [5.0, 0.0]], [\"M\", \"L\"]], [[[5.0, 5.0], [4.0, 5.0]], [\"M\", \"L\"]], [[[5.0, 5.0], [6.0, 5.0]], [\"M\", \"L\"]], [[[8.0, 1.0], [8.0, 2.0]], [\"M\", \"L\"]], [[[8.0, 1.0], [7.0, 1.0]], [\"M\", \"L\"]], [[[7.0, 6.0], [8.0, 6.0]], [\"M\", \"L\"]], [[[7.0, 6.0], [7.0, 5.0]], [\"M\", \"L\"]], [[[4.0, 4.0], [4.0, 5.0]], [\"M\", \"L\"]], [[[4.0, 4.0], [3.0, 4.0]], [\"M\", \"L\"]], [[[4.0, 4.0], [4.0, 3.0]], [\"M\", \"L\"]], [[[6.0, 3.0], [5.0, 3.0]], [\"M\", \"L\"]], [[[6.0, 3.0], [6.0, 4.0]], [\"M\", \"L\"]], [[[3.0, 0.0], [2.0, 0.0]], [\"M\", \"L\"]], [[[3.0, 0.0], [3.0, 1.0]], [\"M\", \"L\"]], [[[5.0, 0.0], [6.0, 0.0]], [\"M\", \"L\"]], [[[2.0, 2.0], [3.0, 2.0]], [\"M\", \"L\"]], [[[2.0, 2.0], [2.0, 3.0]], [\"M\", \"L\"]], [[[3.0, 5.0], [4.0, 5.0]], [\"M\", \"L\"]], [[[3.0, 5.0], [3.0, 4.0]], [\"M\", \"L\"]], [[[3.0, 5.0], [3.0, 6.0]], [\"M\", \"L\"]], [[[4.0, 1.0], [3.0, 1.0]], [\"M\", \"L\"]], [[[4.0, 1.0], [4.0, 2.0]], [\"M\", \"L\"]], [[[6.0, 4.0], [7.0, 4.0]], [\"M\", \"L\"]], [[[6.0, 4.0], [6.0, 5.0]], [\"M\", \"L\"]], [[[3.0, 2.0], [4.0, 2.0]], [\"M\", \"L\"]], [[[3.0, 2.0], [3.0, 1.0]], [\"M\", \"L\"]], [[[3.0, 2.0], [3.0, 3.0]], [\"M\", \"L\"]], [[[2.0, 6.0], [3.0, 6.0]], [\"M\", \"L\"]], [[[8.0, 2.0], [8.0, 3.0]], [\"M\", \"L\"]], [[[7.0, 1.0], [6.0, 1.0]], [\"M\", \"L\"]], [[[7.0, 1.0], [7.0, 0.0]], [\"M\", \"L\"]], [[[4.0, 5.0], [4.0, 6.0]], [\"M\", \"L\"]], [[[6.0, 0.0], [6.0, 1.0]], [\"M\", \"L\"]], [[[6.0, 0.0], [7.0, 0.0]], [\"M\", \"L\"]], [[[7.0, 5.0], [7.0, 4.0]], [\"M\", \"L\"]], [[[7.0, 5.0], [6.0, 5.0]], [\"M\", \"L\"]], [[[2.0, 3.0], [2.0, 4.0]], [\"M\", \"L\"]], [[[2.0, 3.0], [3.0, 3.0]], [\"M\", \"L\"]], [[[4.0, 2.0], [5.0, 2.0]], [\"M\", \"L\"]], [[[4.0, 2.0], [4.0, 3.0]], [\"M\", \"L\"]], [[[3.0, 3.0], [3.0, 4.0]], [\"M\", \"L\"]], [[[3.0, 3.0], [4.0, 3.0]], [\"M\", \"L\"]], [[[5.0, 3.0], [5.0, 2.0]], [\"M\", \"L\"]], [[[5.0, 3.0], [4.0, 3.0]], [\"M\", \"L\"]], [[[4.0, 6.0], [3.0, 6.0]], [\"M\", \"L\"]], [[[7.0, 4.0], [8.0, 4.0]], [\"M\", \"L\"]], [[[8.0, 3.0], [8.0, 4.0]], [\"M\", \"L\"]], [[[3.0, 4.0], [2.0, 4.0]], [\"M\", \"L\"]]], \"edgecolors\": [\"#000000\", \"#000000\", \"#0000FF\", \"#000000\", \"#0000FF\", \"#0000FF\", \"#000000\", \"#0000FF\", \"#0000FF\", \"#0000FF\", \"#0000FF\", \"#000000\", \"#000000\", \"#0000FF\", \"#0000FF\", \"#0000FF\", \"#0000FF\", \"#0000FF\", \"#000000\", \"#000000\", \"#000000\", \"#000000\", \"#000000\", \"#000000\", \"#000000\", \"#0000FF\", \"#0000FF\", \"#0000FF\", \"#000000\", \"#0000FF\", \"#000000\", \"#0000FF\", \"#0000FF\", \"#000000\", \"#0000FF\", \"#000000\", \"#0000FF\", \"#0000FF\", \"#000000\", \"#0000FF\", \"#000000\", \"#0000FF\", \"#0000FF\", \"#000000\", \"#000000\", \"#000000\", \"#000000\", \"#000000\", \"#0000FF\", \"#000000\", \"#0000FF\", \"#000000\", \"#0000FF\", \"#000000\", \"#000000\", \"#000000\", \"#000000\", \"#000000\", \"#000000\", \"#000000\", \"#000000\", \"#000000\", \"#000000\", \"#0000FF\", \"#0000FF\", \"#000000\", \"#000000\", \"#000000\", \"#000000\", \"#0000FF\", \"#000000\", \"#000000\", \"#0000FF\", \"#0000FF\", \"#000000\", \"#000000\", \"#000000\", \"#000000\", \"#000000\", \"#000000\", \"#0000FF\", \"#000000\", \"#0000FF\", \"#000000\"], \"edgewidths\": [1, 1, 4, 1, 4, 4, 1, 4, 4, 4, 4, 1, 1, 4, 4, 4, 4, 4, 1, 1, 1, 1, 1, 1, 1, 4, 4, 4, 1, 4, 1, 4, 4, 1, 4, 1, 4, 4, 1, 4, 1, 4, 4, 1, 1, 1, 1, 1, 4, 1, 4, 1, 4, 1, 1, 1, 1, 1, 1, 1, 1, 1, 1, 4, 4, 1, 1, 1, 1, 4, 1, 1, 4, 4, 1, 1, 1, 1, 1, 1, 4, 1, 4, 1], \"offsets\": \"data01\", \"yindex\": 1, \"id\": \"el98394479792912\", \"pathtransforms\": [], \"pathcoordinates\": \"data\", \"offsetcoordinates\": \"display\", \"zorder\": 1, \"xindex\": 0, \"alphas\": [null], \"facecolors\": []}], \"xscale\": \"linear\", \"bbox\": [0.22187499999999999, 0.125, 0.58125000000000004, 0.77500000000000002]}], \"height\": 480.0, \"width\": 640.0, \"plugins\": [{\"type\": \"reset\"}, {\"enabled\": false, \"button\": true, \"type\": \"zoom\"}, {\"enabled\": false, \"button\": true, \"type\": \"boxzoom\"}], \"data\": {\"data01\": [[0.0, 0.0]]}, \"id\": \"el98394481693520\"});\n",
       "      });\n",
       "    });\n",
       "}else{\n",
       "    // require.js not available: dynamically load d3 & mpld3\n",
       "    mpld3_load_lib(\"https://mpld3.github.io/js/d3.v3.min.js\", function(){\n",
       "         mpld3_load_lib(\"https://mpld3.github.io/js/mpld3.v0.2.js\", function(){\n",
       "                 \n",
       "                 mpld3.draw_figure(\"fig_el983944816935201771207828\", {\"axes\": [{\"xlim\": [1.0, 9.0], \"yscale\": \"linear\", \"axesbg\": \"none\", \"texts\": [], \"zoomable\": true, \"images\": [], \"xdomain\": [1.0, 9.0], \"ylim\": [-1.0, 7.0], \"paths\": [], \"sharey\": [], \"sharex\": [], \"axesbgalpha\": null, \"axes\": [{\"scale\": \"linear\", \"tickformat\": null, \"grid\": {\"gridOn\": false}, \"fontsize\": 10.0, \"position\": \"bottom\", \"nticks\": 9, \"tickvalues\": null}, {\"scale\": \"linear\", \"tickformat\": null, \"grid\": {\"gridOn\": false}, \"fontsize\": 10.0, \"position\": \"left\", \"nticks\": 9, \"tickvalues\": null}], \"lines\": [], \"markers\": [], \"id\": \"el98394444466256\", \"ydomain\": [-1.0, 7.0], \"collections\": [{\"paths\": [[[[7.0, 3.0], [6.0, 3.0]], [\"M\", \"L\"]], [[[7.0, 3.0], [7.0, 4.0]], [\"M\", \"L\"]], [[[7.0, 3.0], [8.0, 3.0]], [\"M\", \"L\"]], [[[7.0, 3.0], [7.0, 2.0]], [\"M\", \"L\"]], [[[6.0, 6.0], [5.0, 6.0]], [\"M\", \"L\"]], [[[6.0, 6.0], [7.0, 6.0]], [\"M\", \"L\"]], [[[6.0, 6.0], [6.0, 5.0]], [\"M\", \"L\"]], [[[5.0, 6.0], [4.0, 6.0]], [\"M\", \"L\"]], [[[5.0, 6.0], [5.0, 5.0]], [\"M\", \"L\"]], [[[8.0, 0.0], [8.0, 1.0]], [\"M\", \"L\"]], [[[8.0, 0.0], [7.0, 0.0]], [\"M\", \"L\"]], [[[5.0, 4.0], [6.0, 4.0]], [\"M\", \"L\"]], [[[5.0, 4.0], [4.0, 4.0]], [\"M\", \"L\"]], [[[5.0, 4.0], [5.0, 5.0]], [\"M\", \"L\"]], [[[5.0, 4.0], [5.0, 3.0]], [\"M\", \"L\"]], [[[2.0, 1.0], [2.0, 0.0]], [\"M\", \"L\"]], [[[2.0, 1.0], [3.0, 1.0]], [\"M\", \"L\"]], [[[2.0, 1.0], [2.0, 2.0]], [\"M\", \"L\"]], [[[6.0, 2.0], [6.0, 3.0]], [\"M\", \"L\"]], [[[6.0, 2.0], [6.0, 1.0]], [\"M\", \"L\"]], [[[6.0, 2.0], [5.0, 2.0]], [\"M\", \"L\"]], [[[6.0, 2.0], [7.0, 2.0]], [\"M\", \"L\"]], [[[5.0, 1.0], [4.0, 1.0]], [\"M\", \"L\"]], [[[5.0, 1.0], [6.0, 1.0]], [\"M\", \"L\"]], [[[5.0, 1.0], [5.0, 2.0]], [\"M\", \"L\"]], [[[5.0, 1.0], [5.0, 0.0]], [\"M\", \"L\"]], [[[2.0, 5.0], [2.0, 6.0]], [\"M\", \"L\"]], [[[2.0, 5.0], [2.0, 4.0]], [\"M\", \"L\"]], [[[2.0, 5.0], [3.0, 5.0]], [\"M\", \"L\"]], [[[8.0, 5.0], [8.0, 6.0]], [\"M\", \"L\"]], [[[8.0, 5.0], [7.0, 5.0]], [\"M\", \"L\"]], [[[8.0, 5.0], [8.0, 4.0]], [\"M\", \"L\"]], [[[7.0, 2.0], [8.0, 2.0]], [\"M\", \"L\"]], [[[7.0, 2.0], [7.0, 1.0]], [\"M\", \"L\"]], [[[4.0, 0.0], [3.0, 0.0]], [\"M\", \"L\"]], [[[4.0, 0.0], [4.0, 1.0]], [\"M\", \"L\"]], [[[4.0, 0.0], [5.0, 0.0]], [\"M\", \"L\"]], [[[5.0, 5.0], [4.0, 5.0]], [\"M\", \"L\"]], [[[5.0, 5.0], [6.0, 5.0]], [\"M\", \"L\"]], [[[8.0, 1.0], [8.0, 2.0]], [\"M\", \"L\"]], [[[8.0, 1.0], [7.0, 1.0]], [\"M\", \"L\"]], [[[7.0, 6.0], [8.0, 6.0]], [\"M\", \"L\"]], [[[7.0, 6.0], [7.0, 5.0]], [\"M\", \"L\"]], [[[4.0, 4.0], [4.0, 5.0]], [\"M\", \"L\"]], [[[4.0, 4.0], [3.0, 4.0]], [\"M\", \"L\"]], [[[4.0, 4.0], [4.0, 3.0]], [\"M\", \"L\"]], [[[6.0, 3.0], [5.0, 3.0]], [\"M\", \"L\"]], [[[6.0, 3.0], [6.0, 4.0]], [\"M\", \"L\"]], [[[3.0, 0.0], [2.0, 0.0]], [\"M\", \"L\"]], [[[3.0, 0.0], [3.0, 1.0]], [\"M\", \"L\"]], [[[5.0, 0.0], [6.0, 0.0]], [\"M\", \"L\"]], [[[2.0, 2.0], [3.0, 2.0]], [\"M\", \"L\"]], [[[2.0, 2.0], [2.0, 3.0]], [\"M\", \"L\"]], [[[3.0, 5.0], [4.0, 5.0]], [\"M\", \"L\"]], [[[3.0, 5.0], [3.0, 4.0]], [\"M\", \"L\"]], [[[3.0, 5.0], [3.0, 6.0]], [\"M\", \"L\"]], [[[4.0, 1.0], [3.0, 1.0]], [\"M\", \"L\"]], [[[4.0, 1.0], [4.0, 2.0]], [\"M\", \"L\"]], [[[6.0, 4.0], [7.0, 4.0]], [\"M\", \"L\"]], [[[6.0, 4.0], [6.0, 5.0]], [\"M\", \"L\"]], [[[3.0, 2.0], [4.0, 2.0]], [\"M\", \"L\"]], [[[3.0, 2.0], [3.0, 1.0]], [\"M\", \"L\"]], [[[3.0, 2.0], [3.0, 3.0]], [\"M\", \"L\"]], [[[2.0, 6.0], [3.0, 6.0]], [\"M\", \"L\"]], [[[8.0, 2.0], [8.0, 3.0]], [\"M\", \"L\"]], [[[7.0, 1.0], [6.0, 1.0]], [\"M\", \"L\"]], [[[7.0, 1.0], [7.0, 0.0]], [\"M\", \"L\"]], [[[4.0, 5.0], [4.0, 6.0]], [\"M\", \"L\"]], [[[6.0, 0.0], [6.0, 1.0]], [\"M\", \"L\"]], [[[6.0, 0.0], [7.0, 0.0]], [\"M\", \"L\"]], [[[7.0, 5.0], [7.0, 4.0]], [\"M\", \"L\"]], [[[7.0, 5.0], [6.0, 5.0]], [\"M\", \"L\"]], [[[2.0, 3.0], [2.0, 4.0]], [\"M\", \"L\"]], [[[2.0, 3.0], [3.0, 3.0]], [\"M\", \"L\"]], [[[4.0, 2.0], [5.0, 2.0]], [\"M\", \"L\"]], [[[4.0, 2.0], [4.0, 3.0]], [\"M\", \"L\"]], [[[3.0, 3.0], [3.0, 4.0]], [\"M\", \"L\"]], [[[3.0, 3.0], [4.0, 3.0]], [\"M\", \"L\"]], [[[5.0, 3.0], [5.0, 2.0]], [\"M\", \"L\"]], [[[5.0, 3.0], [4.0, 3.0]], [\"M\", \"L\"]], [[[4.0, 6.0], [3.0, 6.0]], [\"M\", \"L\"]], [[[7.0, 4.0], [8.0, 4.0]], [\"M\", \"L\"]], [[[8.0, 3.0], [8.0, 4.0]], [\"M\", \"L\"]], [[[3.0, 4.0], [2.0, 4.0]], [\"M\", \"L\"]]], \"edgecolors\": [\"#000000\", \"#000000\", \"#0000FF\", \"#000000\", \"#0000FF\", \"#0000FF\", \"#000000\", \"#0000FF\", \"#0000FF\", \"#0000FF\", \"#0000FF\", \"#000000\", \"#000000\", \"#0000FF\", \"#0000FF\", \"#0000FF\", \"#0000FF\", \"#0000FF\", \"#000000\", \"#000000\", \"#000000\", \"#000000\", \"#000000\", \"#000000\", \"#000000\", \"#0000FF\", \"#0000FF\", \"#0000FF\", \"#000000\", \"#0000FF\", \"#000000\", \"#0000FF\", \"#0000FF\", \"#000000\", \"#0000FF\", \"#000000\", \"#0000FF\", \"#0000FF\", \"#000000\", \"#0000FF\", \"#000000\", \"#0000FF\", \"#0000FF\", \"#000000\", \"#000000\", \"#000000\", \"#000000\", \"#000000\", \"#0000FF\", \"#000000\", \"#0000FF\", \"#000000\", \"#0000FF\", \"#000000\", \"#000000\", \"#000000\", \"#000000\", \"#000000\", \"#000000\", \"#000000\", \"#000000\", \"#000000\", \"#000000\", \"#0000FF\", \"#0000FF\", \"#000000\", \"#000000\", \"#000000\", \"#000000\", \"#0000FF\", \"#000000\", \"#000000\", \"#0000FF\", \"#0000FF\", \"#000000\", \"#000000\", \"#000000\", \"#000000\", \"#000000\", \"#000000\", \"#0000FF\", \"#000000\", \"#0000FF\", \"#000000\"], \"edgewidths\": [1, 1, 4, 1, 4, 4, 1, 4, 4, 4, 4, 1, 1, 4, 4, 4, 4, 4, 1, 1, 1, 1, 1, 1, 1, 4, 4, 4, 1, 4, 1, 4, 4, 1, 4, 1, 4, 4, 1, 4, 1, 4, 4, 1, 1, 1, 1, 1, 4, 1, 4, 1, 4, 1, 1, 1, 1, 1, 1, 1, 1, 1, 1, 4, 4, 1, 1, 1, 1, 4, 1, 1, 4, 4, 1, 1, 1, 1, 1, 1, 4, 1, 4, 1], \"offsets\": \"data01\", \"yindex\": 1, \"id\": \"el98394479792912\", \"pathtransforms\": [], \"pathcoordinates\": \"data\", \"offsetcoordinates\": \"display\", \"zorder\": 1, \"xindex\": 0, \"alphas\": [null], \"facecolors\": []}], \"xscale\": \"linear\", \"bbox\": [0.22187499999999999, 0.125, 0.58125000000000004, 0.77500000000000002]}], \"height\": 480.0, \"width\": 640.0, \"plugins\": [{\"type\": \"reset\"}, {\"enabled\": false, \"button\": true, \"type\": \"zoom\"}, {\"enabled\": false, \"button\": true, \"type\": \"boxzoom\"}], \"data\": {\"data01\": [[0.0, 0.0]]}, \"id\": \"el98394481693520\"});\n",
       "            })\n",
       "         });\n",
       "}\n",
       "</script>"
      ],
      "text/plain": [
       "<matplotlib.figure.Figure at 0x10b213750>"
      ]
     },
     "metadata": {},
     "output_type": "display_data"
    }
   ],
   "source": [
    "#for n in myG.G.nodes():\n",
    "#    if n.y> 10000:\n",
    "#        myG.G.remove_node(n)\n",
    "\n",
    "myG.plot_roads()"
   ]
  },
  {
   "cell_type": "code",
   "execution_count": null,
   "metadata": {
    "collapsed": false,
    "scrolled": false
   },
   "outputs": [],
   "source": [
    "\n"
   ]
  },
  {
   "cell_type": "code",
   "execution_count": 197,
   "metadata": {
    "collapsed": false
   },
   "outputs": [
    {
     "data": {
      "text/plain": [
       "<module 'my_graph_helpers' from 'my_graph_helpers.pyc'>"
      ]
     },
     "execution_count": 197,
     "metadata": {},
     "output_type": "execute_result"
    }
   ],
   "source": [
    "reload(mg)\n",
    "reload(mgh)"
   ]
  },
  {
   "cell_type": "code",
   "execution_count": 202,
   "metadata": {
    "collapsed": false
   },
   "outputs": [
    {
     "name": "stdout",
     "output_type": "stream",
     "text": [
      "[(0.00,0.00), (0.00,1.00), (0.00,1.00), (1.00,1.00)]\n"
     ]
    }
   ],
   "source": [
    "###  copy testing\n",
    "n0 = mg.MyNode((0,0))\n",
    "n1 = mg.MyNode((0,1))\n",
    "n2 = mg.MyNode((1,1))\n",
    "\n",
    "H = mg.MyGraph(name = \"H0\")\n",
    "e0 = mg.MyEdge((n0,n1))\n",
    "H.add_edge(e0)\n",
    "\n",
    "e1 = mg.MyEdge((n1,n2))\n",
    "H.add_edge(e1)\n",
    "\n",
    "\n",
    "e2 = mg.MyEdge((n2,n0))\n",
    "e2.road = False\n",
    "e2.length = 3\n",
    "H.add_edge(e2)\n",
    "\n",
    "\n",
    "H.add_road_segment(e0)\n",
    "H.add_road_segment(e1)\n",
    "\n",
    "H.define_interior_parcels()\n",
    "print H.road_nodes"
   ]
  },
  {
   "cell_type": "code",
   "execution_count": 203,
   "metadata": {
    "collapsed": false
   },
   "outputs": [
    {
     "name": "stdout",
     "output_type": "stream",
     "text": [
      "Hc1 outerface is Face with centroid at (0.33,0.67)\n"
     ]
    },
    {
     "data": {
      "image/png": "[encoded data removed]",
      "text/html": [
       "\n",
       "\n",
       "<style>\n",
       "\n",
       "</style>\n",
       "\n",
       "<div id=\"fig_el983944544304807779263644\"></div>\n",
       "<script>\n",
       "function mpld3_load_lib(url, callback){\n",
       "  var s = document.createElement('script');\n",
       "  s.src = url;\n",
       "  s.async = true;\n",
       "  s.onreadystatechange = s.onload = callback;\n",
       "  s.onerror = function(){console.warn(\"failed to load library \" + url);};\n",
       "  document.getElementsByTagName(\"head\")[0].appendChild(s);\n",
       "}\n",
       "\n",
       "if(typeof(mpld3) !== \"undefined\" && mpld3._mpld3IsLoaded){\n",
       "   // already loaded: just create the figure\n",
       "   !function(mpld3){\n",
       "       \n",
       "       mpld3.draw_figure(\"fig_el983944544304807779263644\", {\"axes\": [{\"xlim\": [-0.20000000000000001, 1.2000000000000002], \"yscale\": \"linear\", \"axesbg\": \"none\", \"texts\": [], \"zoomable\": true, \"images\": [], \"xdomain\": [-0.20000000000000001, 1.2000000000000002], \"ylim\": [-0.20000000000000001, 1.2000000000000002], \"paths\": [], \"sharey\": [], \"sharex\": [], \"axesbgalpha\": null, \"axes\": [{\"scale\": \"linear\", \"tickformat\": null, \"grid\": {\"gridOn\": false}, \"fontsize\": 10.0, \"position\": \"bottom\", \"nticks\": 9, \"tickvalues\": null}, {\"scale\": \"linear\", \"tickformat\": null, \"grid\": {\"gridOn\": false}, \"fontsize\": 10.0, \"position\": \"left\", \"nticks\": 9, \"tickvalues\": null}], \"lines\": [], \"markers\": [], \"id\": \"el98394470818960\", \"ydomain\": [-0.20000000000000001, 1.2000000000000002], \"collections\": [{\"paths\": [[[[0.0, 1.0], [0.0, 0.0]], [\"M\", \"L\"]], [[[0.0, 1.0], [1.0, 1.0]], [\"M\", \"L\"]], [[[0.0, 0.0], [1.0, 1.0]], [\"M\", \"L\"]]], \"edgecolors\": [\"#0000FF\", \"#0000FF\", \"#000000\"], \"edgewidths\": [4, 4, 1], \"offsets\": \"data01\", \"yindex\": 1, \"id\": \"el98394444106576\", \"pathtransforms\": [], \"pathcoordinates\": \"data\", \"offsetcoordinates\": \"display\", \"zorder\": 1, \"xindex\": 0, \"alphas\": [null], \"facecolors\": []}], \"xscale\": \"linear\", \"bbox\": [0.22187499999999999, 0.125, 0.58125000000000004, 0.77500000000000002]}], \"height\": 480.0, \"width\": 640.0, \"plugins\": [{\"type\": \"reset\"}, {\"enabled\": false, \"button\": true, \"type\": \"zoom\"}, {\"enabled\": false, \"button\": true, \"type\": \"boxzoom\"}], \"data\": {\"data01\": [[0.0, 0.0]]}, \"id\": \"el98394454430480\"});\n",
       "   }(mpld3);\n",
       "}else if(typeof define === \"function\" && define.amd){\n",
       "   // require.js is available: use it to load d3/mpld3\n",
       "   require.config({paths: {d3: \"https://mpld3.github.io/js/d3.v3.min\"}});\n",
       "   require([\"d3\"], function(d3){\n",
       "      window.d3 = d3;\n",
       "      mpld3_load_lib(\"https://mpld3.github.io/js/mpld3.v0.2.js\", function(){\n",
       "         \n",
       "         mpld3.draw_figure(\"fig_el983944544304807779263644\", {\"axes\": [{\"xlim\": [-0.20000000000000001, 1.2000000000000002], \"yscale\": \"linear\", \"axesbg\": \"none\", \"texts\": [], \"zoomable\": true, \"images\": [], \"xdomain\": [-0.20000000000000001, 1.2000000000000002], \"ylim\": [-0.20000000000000001, 1.2000000000000002], \"paths\": [], \"sharey\": [], \"sharex\": [], \"axesbgalpha\": null, \"axes\": [{\"scale\": \"linear\", \"tickformat\": null, \"grid\": {\"gridOn\": false}, \"fontsize\": 10.0, \"position\": \"bottom\", \"nticks\": 9, \"tickvalues\": null}, {\"scale\": \"linear\", \"tickformat\": null, \"grid\": {\"gridOn\": false}, \"fontsize\": 10.0, \"position\": \"left\", \"nticks\": 9, \"tickvalues\": null}], \"lines\": [], \"markers\": [], \"id\": \"el98394470818960\", \"ydomain\": [-0.20000000000000001, 1.2000000000000002], \"collections\": [{\"paths\": [[[[0.0, 1.0], [0.0, 0.0]], [\"M\", \"L\"]], [[[0.0, 1.0], [1.0, 1.0]], [\"M\", \"L\"]], [[[0.0, 0.0], [1.0, 1.0]], [\"M\", \"L\"]]], \"edgecolors\": [\"#0000FF\", \"#0000FF\", \"#000000\"], \"edgewidths\": [4, 4, 1], \"offsets\": \"data01\", \"yindex\": 1, \"id\": \"el98394444106576\", \"pathtransforms\": [], \"pathcoordinates\": \"data\", \"offsetcoordinates\": \"display\", \"zorder\": 1, \"xindex\": 0, \"alphas\": [null], \"facecolors\": []}], \"xscale\": \"linear\", \"bbox\": [0.22187499999999999, 0.125, 0.58125000000000004, 0.77500000000000002]}], \"height\": 480.0, \"width\": 640.0, \"plugins\": [{\"type\": \"reset\"}, {\"enabled\": false, \"button\": true, \"type\": \"zoom\"}, {\"enabled\": false, \"button\": true, \"type\": \"boxzoom\"}], \"data\": {\"data01\": [[0.0, 0.0]]}, \"id\": \"el98394454430480\"});\n",
       "      });\n",
       "    });\n",
       "}else{\n",
       "    // require.js not available: dynamically load d3 & mpld3\n",
       "    mpld3_load_lib(\"https://mpld3.github.io/js/d3.v3.min.js\", function(){\n",
       "         mpld3_load_lib(\"https://mpld3.github.io/js/mpld3.v0.2.js\", function(){\n",
       "                 \n",
       "                 mpld3.draw_figure(\"fig_el983944544304807779263644\", {\"axes\": [{\"xlim\": [-0.20000000000000001, 1.2000000000000002], \"yscale\": \"linear\", \"axesbg\": \"none\", \"texts\": [], \"zoomable\": true, \"images\": [], \"xdomain\": [-0.20000000000000001, 1.2000000000000002], \"ylim\": [-0.20000000000000001, 1.2000000000000002], \"paths\": [], \"sharey\": [], \"sharex\": [], \"axesbgalpha\": null, \"axes\": [{\"scale\": \"linear\", \"tickformat\": null, \"grid\": {\"gridOn\": false}, \"fontsize\": 10.0, \"position\": \"bottom\", \"nticks\": 9, \"tickvalues\": null}, {\"scale\": \"linear\", \"tickformat\": null, \"grid\": {\"gridOn\": false}, \"fontsize\": 10.0, \"position\": \"left\", \"nticks\": 9, \"tickvalues\": null}], \"lines\": [], \"markers\": [], \"id\": \"el98394470818960\", \"ydomain\": [-0.20000000000000001, 1.2000000000000002], \"collections\": [{\"paths\": [[[[0.0, 1.0], [0.0, 0.0]], [\"M\", \"L\"]], [[[0.0, 1.0], [1.0, 1.0]], [\"M\", \"L\"]], [[[0.0, 0.0], [1.0, 1.0]], [\"M\", \"L\"]]], \"edgecolors\": [\"#0000FF\", \"#0000FF\", \"#000000\"], \"edgewidths\": [4, 4, 1], \"offsets\": \"data01\", \"yindex\": 1, \"id\": \"el98394444106576\", \"pathtransforms\": [], \"pathcoordinates\": \"data\", \"offsetcoordinates\": \"display\", \"zorder\": 1, \"xindex\": 0, \"alphas\": [null], \"facecolors\": []}], \"xscale\": \"linear\", \"bbox\": [0.22187499999999999, 0.125, 0.58125000000000004, 0.77500000000000002]}], \"height\": 480.0, \"width\": 640.0, \"plugins\": [{\"type\": \"reset\"}, {\"enabled\": false, \"button\": true, \"type\": \"zoom\"}, {\"enabled\": false, \"button\": true, \"type\": \"boxzoom\"}], \"data\": {\"data01\": [[0.0, 0.0]]}, \"id\": \"el98394454430480\"});\n",
       "            })\n",
       "         });\n",
       "}\n",
       "</script>"
      ],
      "text/plain": [
       "<matplotlib.figure.Figure at 0x109813710>"
      ]
     },
     "metadata": {},
     "output_type": "display_data"
    }
   ],
   "source": [
    "Hc1 = H.copy()\n",
    "Hc1.name = \"Hc1\"\n",
    "try:\n",
    "    print \"Hc1 outerface is {}\".format(Hc1.outerface)\n",
    "except:\n",
    "    print \"no outerface means innerfacelist hasn't been called.\"\n",
    "\n",
    "\n",
    "\n",
    "\n",
    "    \n",
    "H.plot_roads(update = False)"
   ]
  },
  {
   "cell_type": "code",
   "execution_count": 204,
   "metadata": {
    "collapsed": false
   },
   "outputs": [
    {
     "data": {
      "text/plain": [
       "[(0.00,1.00), (0.00,0.00), (1.00,1.00)]"
      ]
     },
     "execution_count": 204,
     "metadata": {},
     "output_type": "execute_result"
    }
   ],
   "source": [
    "He = H.myedges()\n",
    "Hc1e = Hc1.myedges()\n",
    "Hc2e = Hc2.myedges()\n",
    "\n",
    "\n",
    "Hn = H.G.nodes()\n",
    "Hc1n = Hc1.G.nodes()\n",
    "Hc2n = Hc2.G.nodes()\n",
    "\n",
    "\n",
    "H.road_nodes\n",
    "Hc1.road_nodes"
   ]
  },
  {
   "cell_type": "code",
   "execution_count": 205,
   "metadata": {
    "collapsed": false
   },
   "outputs": [
    {
     "name": "stdout",
     "output_type": "stream",
     "text": [
      "o1 == o2? False\n",
      "o1 is o2? False\n"
     ]
    }
   ],
   "source": [
    "test_is_eq(H.road_nodes[0],Hc1.road_nodes[0])"
   ]
  },
  {
   "cell_type": "code",
   "execution_count": 206,
   "metadata": {
    "collapsed": false
   },
   "outputs": [],
   "source": [
    "Hf = H.inner_facelist[0]\n",
    "Hc1f = Hc1.inner_facelist[0]\n",
    "Hc2f = Hc2.inner_facelist[0]"
   ]
  },
  {
   "cell_type": "code",
   "execution_count": 207,
   "metadata": {
    "collapsed": false
   },
   "outputs": [
    {
     "data": {
      "text/plain": [
       "([MyEdge with nodes (1.00,1.00) (0.00,0.00),\n",
       "  MyEdge with nodes (0.00,0.00) (0.00,1.00),\n",
       "  MyEdge with nodes (0.00,1.00) (1.00,1.00)],\n",
       " [MyEdge with nodes (1.00,1.00) (0.00,0.00),\n",
       "  MyEdge with nodes (0.00,0.00) (0.00,1.00),\n",
       "  MyEdge with nodes (0.00,1.00) (1.00,1.00)])"
      ]
     },
     "execution_count": 207,
     "metadata": {},
     "output_type": "execute_result"
    }
   ],
   "source": [
    "Hf.edges, Hc1f.edges"
   ]
  },
  {
   "cell_type": "code",
   "execution_count": 208,
   "metadata": {
    "collapsed": false
   },
   "outputs": [
    {
     "data": {
      "image/png": "[encoded data removed]",
      "text/html": [
       "\n",
       "\n",
       "<style>\n",
       "\n",
       "</style>\n",
       "\n",
       "<div id=\"fig_el983944707940008783902599\"></div>\n",
       "<script>\n",
       "function mpld3_load_lib(url, callback){\n",
       "  var s = document.createElement('script');\n",
       "  s.src = url;\n",
       "  s.async = true;\n",
       "  s.onreadystatechange = s.onload = callback;\n",
       "  s.onerror = function(){console.warn(\"failed to load library \" + url);};\n",
       "  document.getElementsByTagName(\"head\")[0].appendChild(s);\n",
       "}\n",
       "\n",
       "if(typeof(mpld3) !== \"undefined\" && mpld3._mpld3IsLoaded){\n",
       "   // already loaded: just create the figure\n",
       "   !function(mpld3){\n",
       "       \n",
       "       mpld3.draw_figure(\"fig_el983944707940008783902599\", {\"axes\": [{\"xlim\": [-0.20000000000000001, 1.2000000000000002], \"yscale\": \"linear\", \"axesbg\": \"none\", \"texts\": [], \"zoomable\": true, \"images\": [], \"xdomain\": [-0.20000000000000001, 1.2000000000000002], \"ylim\": [-0.20000000000000001, 1.2000000000000002], \"paths\": [], \"sharey\": [], \"sharex\": [], \"axesbgalpha\": null, \"axes\": [{\"scale\": \"linear\", \"tickformat\": null, \"grid\": {\"gridOn\": false}, \"fontsize\": 10.0, \"position\": \"bottom\", \"nticks\": 9, \"tickvalues\": null}, {\"scale\": \"linear\", \"tickformat\": null, \"grid\": {\"gridOn\": false}, \"fontsize\": 10.0, \"position\": \"left\", \"nticks\": 9, \"tickvalues\": null}], \"lines\": [], \"markers\": [], \"id\": \"el98394455904656\", \"ydomain\": [-0.20000000000000001, 1.2000000000000002], \"collections\": [{\"paths\": [[[[0.0, 1.0], [0.0, 0.0]], [\"M\", \"L\"]], [[[0.0, 1.0], [1.0, 1.0]], [\"M\", \"L\"]], [[[0.0, 0.0], [1.0, 1.0]], [\"M\", \"L\"]]], \"edgecolors\": [\"#0000FF\", \"#0000FF\", \"#000000\"], \"edgewidths\": [4, 4, 1], \"offsets\": \"data01\", \"yindex\": 1, \"id\": \"el98394458399952\", \"pathtransforms\": [], \"pathcoordinates\": \"data\", \"offsetcoordinates\": \"display\", \"zorder\": 1, \"xindex\": 0, \"alphas\": [null], \"facecolors\": []}], \"xscale\": \"linear\", \"bbox\": [0.22187499999999999, 0.125, 0.58125000000000004, 0.77500000000000002]}], \"height\": 480.0, \"width\": 640.0, \"plugins\": [{\"type\": \"reset\"}, {\"enabled\": false, \"button\": true, \"type\": \"zoom\"}, {\"enabled\": false, \"button\": true, \"type\": \"boxzoom\"}], \"data\": {\"data01\": [[0.0, 0.0]]}, \"id\": \"el98394470794000\"});\n",
       "   }(mpld3);\n",
       "}else if(typeof define === \"function\" && define.amd){\n",
       "   // require.js is available: use it to load d3/mpld3\n",
       "   require.config({paths: {d3: \"https://mpld3.github.io/js/d3.v3.min\"}});\n",
       "   require([\"d3\"], function(d3){\n",
       "      window.d3 = d3;\n",
       "      mpld3_load_lib(\"https://mpld3.github.io/js/mpld3.v0.2.js\", function(){\n",
       "         \n",
       "         mpld3.draw_figure(\"fig_el983944707940008783902599\", {\"axes\": [{\"xlim\": [-0.20000000000000001, 1.2000000000000002], \"yscale\": \"linear\", \"axesbg\": \"none\", \"texts\": [], \"zoomable\": true, \"images\": [], \"xdomain\": [-0.20000000000000001, 1.2000000000000002], \"ylim\": [-0.20000000000000001, 1.2000000000000002], \"paths\": [], \"sharey\": [], \"sharex\": [], \"axesbgalpha\": null, \"axes\": [{\"scale\": \"linear\", \"tickformat\": null, \"grid\": {\"gridOn\": false}, \"fontsize\": 10.0, \"position\": \"bottom\", \"nticks\": 9, \"tickvalues\": null}, {\"scale\": \"linear\", \"tickformat\": null, \"grid\": {\"gridOn\": false}, \"fontsize\": 10.0, \"position\": \"left\", \"nticks\": 9, \"tickvalues\": null}], \"lines\": [], \"markers\": [], \"id\": \"el98394455904656\", \"ydomain\": [-0.20000000000000001, 1.2000000000000002], \"collections\": [{\"paths\": [[[[0.0, 1.0], [0.0, 0.0]], [\"M\", \"L\"]], [[[0.0, 1.0], [1.0, 1.0]], [\"M\", \"L\"]], [[[0.0, 0.0], [1.0, 1.0]], [\"M\", \"L\"]]], \"edgecolors\": [\"#0000FF\", \"#0000FF\", \"#000000\"], \"edgewidths\": [4, 4, 1], \"offsets\": \"data01\", \"yindex\": 1, \"id\": \"el98394458399952\", \"pathtransforms\": [], \"pathcoordinates\": \"data\", \"offsetcoordinates\": \"display\", \"zorder\": 1, \"xindex\": 0, \"alphas\": [null], \"facecolors\": []}], \"xscale\": \"linear\", \"bbox\": [0.22187499999999999, 0.125, 0.58125000000000004, 0.77500000000000002]}], \"height\": 480.0, \"width\": 640.0, \"plugins\": [{\"type\": \"reset\"}, {\"enabled\": false, \"button\": true, \"type\": \"zoom\"}, {\"enabled\": false, \"button\": true, \"type\": \"boxzoom\"}], \"data\": {\"data01\": [[0.0, 0.0]]}, \"id\": \"el98394470794000\"});\n",
       "      });\n",
       "    });\n",
       "}else{\n",
       "    // require.js not available: dynamically load d3 & mpld3\n",
       "    mpld3_load_lib(\"https://mpld3.github.io/js/d3.v3.min.js\", function(){\n",
       "         mpld3_load_lib(\"https://mpld3.github.io/js/mpld3.v0.2.js\", function(){\n",
       "                 \n",
       "                 mpld3.draw_figure(\"fig_el983944707940008783902599\", {\"axes\": [{\"xlim\": [-0.20000000000000001, 1.2000000000000002], \"yscale\": \"linear\", \"axesbg\": \"none\", \"texts\": [], \"zoomable\": true, \"images\": [], \"xdomain\": [-0.20000000000000001, 1.2000000000000002], \"ylim\": [-0.20000000000000001, 1.2000000000000002], \"paths\": [], \"sharey\": [], \"sharex\": [], \"axesbgalpha\": null, \"axes\": [{\"scale\": \"linear\", \"tickformat\": null, \"grid\": {\"gridOn\": false}, \"fontsize\": 10.0, \"position\": \"bottom\", \"nticks\": 9, \"tickvalues\": null}, {\"scale\": \"linear\", \"tickformat\": null, \"grid\": {\"gridOn\": false}, \"fontsize\": 10.0, \"position\": \"left\", \"nticks\": 9, \"tickvalues\": null}], \"lines\": [], \"markers\": [], \"id\": \"el98394455904656\", \"ydomain\": [-0.20000000000000001, 1.2000000000000002], \"collections\": [{\"paths\": [[[[0.0, 1.0], [0.0, 0.0]], [\"M\", \"L\"]], [[[0.0, 1.0], [1.0, 1.0]], [\"M\", \"L\"]], [[[0.0, 0.0], [1.0, 1.0]], [\"M\", \"L\"]]], \"edgecolors\": [\"#0000FF\", \"#0000FF\", \"#000000\"], \"edgewidths\": [4, 4, 1], \"offsets\": \"data01\", \"yindex\": 1, \"id\": \"el98394458399952\", \"pathtransforms\": [], \"pathcoordinates\": \"data\", \"offsetcoordinates\": \"display\", \"zorder\": 1, \"xindex\": 0, \"alphas\": [null], \"facecolors\": []}], \"xscale\": \"linear\", \"bbox\": [0.22187499999999999, 0.125, 0.58125000000000004, 0.77500000000000002]}], \"height\": 480.0, \"width\": 640.0, \"plugins\": [{\"type\": \"reset\"}, {\"enabled\": false, \"button\": true, \"type\": \"zoom\"}, {\"enabled\": false, \"button\": true, \"type\": \"boxzoom\"}], \"data\": {\"data01\": [[0.0, 0.0]]}, \"id\": \"el98394470794000\"});\n",
       "            })\n",
       "         });\n",
       "}\n",
       "</script>"
      ],
      "text/plain": [
       "<matplotlib.figure.Figure at 0x10a7ae710>"
      ]
     },
     "metadata": {},
     "output_type": "display_data"
    }
   ],
   "source": [
    "Hc1.define_interior_parcels()\n",
    "Hc1.plot_roads(update = False)"
   ]
  },
  {
   "cell_type": "code",
   "execution_count": 209,
   "metadata": {
    "collapsed": false
   },
   "outputs": [],
   "source": [
    "def test_is_eq(o1,o2):\n",
    "    print \"o1 == o2? {}\".format(o1 == o2)\n",
    "    print \"o1 is o2? {}\".format(o1 is o2)"
   ]
  },
  {
   "cell_type": "code",
   "execution_count": 210,
   "metadata": {
    "collapsed": false
   },
   "outputs": [
    {
     "data": {
      "text/plain": [
       "(MyEdge with nodes (0.00,1.00) (1.00,1.00),\n",
       " MyEdge with nodes (1.00,1.00) (0.00,0.00))"
      ]
     },
     "execution_count": 210,
     "metadata": {},
     "output_type": "execute_result"
    }
   ],
   "source": [
    "e1, e2"
   ]
  },
  {
   "cell_type": "code",
   "execution_count": null,
   "metadata": {
    "collapsed": false
   },
   "outputs": [],
   "source": []
  },
  {
   "cell_type": "code",
   "execution_count": 181,
   "metadata": {
    "collapsed": false
   },
   "outputs": [],
   "source": [
    "myG = mgh.testGraphLattice(4)\n",
    "\n",
    "myG.S1_nodes()\n",
    "dual1 = myG.weak_dual()\n",
    "\n",
    "flist = myG.inner_facelist\n",
    "dual1_faces = dual1.inner_facelist\n",
    "\n",
    "depth = 2\n",
    "\n",
    "#for face0 in flist:\n",
    "#    down2_nodes = []\n",
    "#    for face1 in dual1_faces:\n",
    "#        if face0.odd_node[depth-1] in face1.nodes:\n",
    "#            down2_nodes.append(face1.centroid)\n",
    "#            face0.even_nodes[depth] = set(down2_nodes)\n",
    "\n",
    "\n",
    "for face0 in flist:\n",
    "    down2_nodes = [f.centroid for f in dual1_faces if face0.odd_node[depth-1] in f.nodes]\n",
    "    face0.even_nodes[depth] = set(down2_nodes)\n"
   ]
  },
  {
   "cell_type": "code",
   "execution_count": 183,
   "metadata": {
    "collapsed": false
   },
   "outputs": [
    {
     "name": "stdout",
     "output_type": "stream",
     "text": [
      "Face with centroid at (2.50,1.50) 2\n",
      "Face with centroid at (2.50,2.50) 1\n",
      "Face with centroid at (1.50,0.50) 2\n",
      "Face with centroid at (1.50,1.50) 4\n",
      "Face with centroid at (0.50,0.50) 1\n",
      "Face with centroid at (1.50,2.50) 2\n",
      "Face with centroid at (2.50,0.50) 1\n",
      "Face with centroid at (0.50,1.50) 2\n",
      "Face with centroid at (0.50,2.50) 1\n"
     ]
    }
   ],
   "source": [
    "for face0 in flist:\n",
    "    print face0, len(face0.even_nodes[2])\n",
    "    "
   ]
  },
  {
   "cell_type": "code",
   "execution_count": null,
   "metadata": {
    "collapsed": true
   },
   "outputs": [],
   "source": []
  }
 ],
 "metadata": {
  "kernelspec": {
   "display_name": "Python 2",
   "language": "python",
   "name": "python2"
  },
  "language_info": {
   "codemirror_mode": {
    "name": "ipython",
    "version": 2
   },
   "file_extension": ".py",
   "mimetype": "text/x-python",
   "name": "python",
   "nbconvert_exporter": "python",
   "pygments_lexer": "ipython2",
   "version": "2.7.9"
  }
 },
 "nbformat": 4,
 "nbformat_minor": 0
}
