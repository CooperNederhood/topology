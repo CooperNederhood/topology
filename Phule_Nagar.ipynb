{
 "cells": [
  {
   "cell_type": "code",
   "execution_count": 91,
   "metadata": {
    "collapsed": false
   },
   "outputs": [],
   "source": [
    "%matplotlib inline\n",
    "import mpld3\n",
    "mpld3.enable_notebook()\n",
    "\n",
    "import numpy as np\n",
    "import math\n",
    "from matplotlib import pyplot as plt\n",
    "import matplotlib.pylab as pylab\n",
    "import matplotlib.mlab as mlab\n",
    "from collections import defaultdict\n",
    "pylab.rcParams['figure.figsize'] = 16, 12\n",
    "\n",
    "import my_graph_helpers as mgh\n",
    "import my_graph as mg\n",
    "\n",
    "\n",
    "import plotly.plotly as py\n",
    "from plotly.graph_objs import *\n",
    "import networkx as nx"
   ]
  },
  {
   "cell_type": "code",
   "execution_count": 92,
   "metadata": {
    "collapsed": false
   },
   "outputs": [
    {
     "data": {
      "text/plain": [
       "<module 'my_graph' from 'my_graph.py'>"
      ]
     },
     "execution_count": 92,
     "metadata": {},
     "output_type": "execute_result"
    }
   ],
   "source": [
    "reload(mgh)\n",
    "reload(mg)"
   ]
  },
  {
   "cell_type": "code",
   "execution_count": 93,
   "metadata": {
    "collapsed": false
   },
   "outputs": [
    {
     "name": "stdout",
     "output_type": "stream",
     "text": [
      "data loaded\n"
     ]
    }
   ],
   "source": [
    "### Import data\n",
    "filename = \"data/phule_nagar\"\n",
    "place = \"phule_nagar\"\n",
    "name=place+\"_S0\"\n",
    "rezero = np.array([8118740,2160450])\n",
    "\n",
    "original = mgh.import_and_setup(0, filename, threshold=0.5, rezero=rezero,\n",
    "                                connected=True, name=place+\"_S0\")\n"
   ]
  },
  {
   "cell_type": "code",
   "execution_count": 95,
   "metadata": {
    "collapsed": false
   },
   "outputs": [
    {
     "name": "stdout",
     "output_type": "stream",
     "text": [
      "Graph (phule_nagar_S0) with 2815 nodes\n",
      "204\n",
      "Graph (phule_nagar_S0) with 2796 nodes\n",
      "164\n"
     ]
    }
   ],
   "source": [
    "print original\n",
    "print len(original.connected_components())\n",
    "\n",
    "clean2 = original.clean_up_geometry(0.1,connected=False)\n",
    "print clean2\n",
    "cleanlist = clean2.connected_components()\n",
    "print len(cleanlist)\n",
    "\n",
    "for i in cleanlist:\n",
    "    i.define_roads()\n",
    "    i.define_interior_parcels()"
   ]
  },
  {
   "cell_type": "code",
   "execution_count": 96,
   "metadata": {
    "collapsed": false
   },
   "outputs": [],
   "source": [
    "### myGraph to plotly trace\n",
    "\n",
    "# add the edges in as disconnected lines in a single trace\n",
    "edge_trace = Scatter(x=[], y=[], mode='lines', line=Line(width=[]))\n",
    "road_trace = Scatter(x=[], y=[], mode='lines', line=Line(width=[]))\n",
    "interior_trace = Scatter(x=[], y=[], mode='lines', line=Line(width=[]))\n",
    "\n",
    "for i in cleanlist:\n",
    "    for edge in i.myedges():\n",
    "        x0, y0 = edge.nodes[0].loc\n",
    "        x1, y1 = edge.nodes[1].loc\n",
    "        edge_trace['x'] += [x0, x1, None]\n",
    "        edge_trace['y'] += [y0, y1, None]\n",
    "        if edge.road:\n",
    "            road_trace['x'] += [x0, x1, None]\n",
    "            road_trace['y'] += [y0, y1, None]\n",
    "        if edge.interior:\n",
    "            interior_trace['x'] += [x0, x1, None]\n",
    "            interior_trace['y'] += [y0, y1, None]"
   ]
  },
  {
   "cell_type": "code",
   "execution_count": 97,
   "metadata": {
    "collapsed": false
   },
   "outputs": [
    {
     "data": {
      "text/plain": [
       "5"
      ]
     },
     "execution_count": 97,
     "metadata": {},
     "output_type": "execute_result"
    }
   ],
   "source": [
    "len(interior_trace)"
   ]
  },
  {
   "cell_type": "code",
   "execution_count": 87,
   "metadata": {
    "collapsed": false
   },
   "outputs": [
    {
     "data": {
      "text/plain": [
       "Face with centroid at (114.64,87.28)"
      ]
     },
     "execution_count": 87,
     "metadata": {},
     "output_type": "execute_result"
    }
   ],
   "source": []
  },
  {
   "cell_type": "code",
   "execution_count": 90,
   "metadata": {
    "collapsed": false
   },
   "outputs": [
    {
     "ename": "AttributeError",
     "evalue": "'MyEdge' object has no attribute 'interior'",
     "output_type": "error",
     "traceback": [
      "\u001b[0;31m---------------------------------------------------------------------------\u001b[0m",
      "\u001b[0;31mAttributeError\u001b[0m                            Traceback (most recent call last)",
      "\u001b[0;32m<ipython-input-90-17a91e68d973>\u001b[0m in \u001b[0;36m<module>\u001b[0;34m()\u001b[0m\n\u001b[0;32m----> 1\u001b[0;31m \u001b[0mIe\u001b[0m\u001b[0;34m.\u001b[0m\u001b[0minterior\u001b[0m\u001b[0;34m\u001b[0m\u001b[0m\n\u001b[0m",
      "\u001b[0;31mAttributeError\u001b[0m: 'MyEdge' object has no attribute 'interior'"
     ]
    }
   ],
   "source": []
  },
  {
   "cell_type": "code",
   "execution_count": 98,
   "metadata": {
    "collapsed": false
   },
   "outputs": [
    {
     "data": {
      "text/html": [
       "<iframe id=\"igraph\" scrolling=\"no\" style=\"border:none;\"seamless=\"seamless\" src=\"https://plot.ly/~christa.brelsford/61.embed\" height=\"525\" width=\"100%\"></iframe>"
      ],
      "text/plain": [
       "<plotly.tools.PlotlyDisplay object>"
      ]
     },
     "execution_count": 98,
     "metadata": {},
     "output_type": "execute_result"
    }
   ],
   "source": [
    "# create a figure so we can customize a couple more things\n",
    "fig = Figure(data=Data([edge_trace, road_trace,interior_trace]),\n",
    "             layout=Layout(title='Phule Nagar Parcels and Road Boundaries', plot_bgcolor=\"rgb(217, 217, 217)\",\n",
    "                           showlegend=False, xaxis=XAxis(showgrid=False, zeroline=False, showticklabels=False),\n",
    "                           yaxis=YAxis(showgrid=False, zeroline=False, showticklabels=False)))\n",
    "\n",
    "# send the figure to Plotly and embed an iframe in this notebook\n",
    "py.iplot(fig, filename='phule_nagar')"
   ]
  },
  {
   "cell_type": "code",
   "execution_count": null,
   "metadata": {
    "collapsed": true
   },
   "outputs": [],
   "source": []
  }
 ],
 "metadata": {
  "kernelspec": {
   "display_name": "Python 2",
   "language": "python",
   "name": "python2"
  },
  "language_info": {
   "codemirror_mode": {
    "name": "ipython",
    "version": 2
   },
   "file_extension": ".py",
   "mimetype": "text/x-python",
   "name": "python",
   "nbconvert_exporter": "python",
   "pygments_lexer": "ipython2",
   "version": "2.7.9"
  }
 },
 "nbformat": 4,
 "nbformat_minor": 0
}
