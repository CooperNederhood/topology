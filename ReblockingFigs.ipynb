{
 "cells": [
  {
   "cell_type": "code",
   "execution_count": 43,
   "metadata": {
    "collapsed": true
   },
   "outputs": [],
   "source": [
    "%matplotlib inline\n",
    "import mpld3\n",
    "mpld3.enable_notebook()\n",
    "\n",
    "import numpy as np\n",
    "import math\n",
    "from matplotlib import pyplot as plt\n",
    "import matplotlib.mlab as mlab\n",
    "from collections import defaultdict\n",
    "\n",
    "import my_graph_helpers as mgh\n",
    "import my_graph as mg"
   ]
  },
  {
   "cell_type": "code",
   "execution_count": 2,
   "metadata": {
    "collapsed": false
   },
   "outputs": [
    {
     "data": {
      "text/plain": [
       "<module 'my_graph' from 'my_graph.pyc'>"
      ]
     },
     "execution_count": 2,
     "metadata": {},
     "output_type": "execute_result"
    }
   ],
   "source": [
    "reload(mgh)\n",
    "reload(mg)"
   ]
  },
  {
   "cell_type": "code",
   "execution_count": 3,
   "metadata": {
    "collapsed": true
   },
   "outputs": [],
   "source": [
    "def new_length(block,a):\n",
    "    myG = block.copy()    \n",
    "    myG.define_roads()\n",
    "    myG.define_interior_parcels()\n",
    "\n",
    "    len(myG.interior_parcels)\n",
    "    # print \"alpha = {}\".format(a)\n",
    "    \n",
    "    new_roads, bisect = mgh.build_all_roads(myG, barriers=False, alpha=a, vquiet=True)\n",
    "    return new_roads,myG\n"
   ]
  },
  {
   "cell_type": "code",
   "execution_count": 41,
   "metadata": {
    "collapsed": false
   },
   "outputs": [],
   "source": [
    "def nice_histogram(a,x,bounds=None):\n",
    "    num_bins = 40\n",
    "    if bounds is None:\n",
    "        bounds=[x.min(),x.max()]\n",
    "        \n",
    "        \n",
    "    textstr = '$n={0}$ \\n $\\mu={1:.2f}$ \\n $\\sigma={2:.2f}$'.format(len(x), x.mean(), x.std())\n",
    "    # the histogram of the data\n",
    "    fig = plt.figure()\n",
    "    ax = fig.add_axes([0,0,1,1])\n",
    "    n, bins, patches = plt.hist(x, num_bins, range=bounds, normed=1,\n",
    "                                facecolor='grey', alpha=0.5)\n",
    "    # add a 'best fit' line\n",
    "    y = mlab.normpdf(bins, x.mean(), x.std())\n",
    "    plt.plot(bins, y, 'r--')\n",
    "    plt.xlabel('Length of new roads')\n",
    "    plt.ylabel('Probability')\n",
    "    plt.title(r'$\\alpha = {0}$'.format(a))\n",
    "    plt.text(.85, .85,textstr, transform=ax.transAxes)\n",
    "    plt.savefig(\"histogram_alpha_\"+str(a)+\".pdf\", format='pdf', pad_inches=0.5)"
   ]
  },
  {
   "cell_type": "code",
   "execution_count": 5,
   "metadata": {
    "collapsed": false
   },
   "outputs": [
    {
     "name": "stdout",
     "output_type": "stream",
     "text": [
      "data loaded\n"
     ]
    }
   ],
   "source": [
    "### Import data\n",
    "filename = \"data/epworth_before\"\n",
    "place = \"epworth\"\n",
    "rezero = np.array([305680, 8022350])\n",
    "original = mgh.import_and_setup(1, filename, rezero=rezero,\n",
    "                                connected=True, name=place+\"_S0\")"
   ]
  },
  {
   "cell_type": "code",
   "execution_count": 6,
   "metadata": {
    "collapsed": true
   },
   "outputs": [],
   "source": [
    "# component = 45 is current example block\n",
    "component = 11\n",
    "\n",
    "block = original.connected_components()[component]\n",
    "block.define_roads()\n",
    "block.define_interior_parcels()"
   ]
  },
  {
   "cell_type": "code",
   "execution_count": 7,
   "metadata": {
    "collapsed": false
   },
   "outputs": [
    {
     "data": {
      "image/png": "[encoded data removed]",
      "text/plain": [
       "<matplotlib.figure.Figure at 0x108364850>"
      ]
     },
     "metadata": {},
     "output_type": "display_data"
    }
   ],
   "source": [
    "myG = block.copy()    \n",
    "myG.define_roads()\n",
    "myG.define_interior_parcels()\n",
    "myG.plot_roads(master=block, new_road_width = 4, old_node_size=25, old_road_width = 6)\n",
    "#plt.savefig(\"base_block.pdf\", format='pdf')\n",
    "\n",
    "#new_roads = mgh.build_all_roads(myG, barriers = False, alpha = 2, wholepath = True, \n",
    "#                                plot_intermediate=True)\n",
    "\n",
    "#myG.plot_roads(master=block, new_road_width = 4, old_node_size=25, old_road_width = 6, \n",
    "#               barriers = False)\n",
    "#plt.savefig(\"Full_Solution.pdf\", format='pdf')"
   ]
  },
  {
   "cell_type": "code",
   "execution_count": 8,
   "metadata": {
    "collapsed": false
   },
   "outputs": [
    {
     "name": "stdout",
     "output_type": "stream",
     "text": [
      "alpha = 0.5\n",
      "r=0, alpha=0.5\n",
      "r=50, alpha=0.5\n",
      "alpha = 1\n",
      "r=0, alpha=1\n",
      "r=50, alpha=1\n",
      "alpha = 2\n",
      "r=0, alpha=2\n",
      "r=50, alpha=2\n",
      "alpha = 4\n",
      "r=0, alpha=4\n",
      "r=50, alpha=4\n",
      "alpha = 8\n",
      "r=0, alpha=8\n",
      "r=50, alpha=8\n"
     ]
    }
   ],
   "source": [
    "alpha = [0.5,1,2,4,8,16]\n",
    "d=defaultdict(list)\n",
    "\n",
    "for a in alpha:\n",
    "    r = 0\n",
    "    print \"alpha = {}\".format(a)\n",
    "    for r in range(0,100):\n",
    "        nr,myG = new_length(block,a)\n",
    "        d[a].append(nr)\n",
    "        if r in [0,50,100,150]:\n",
    "            print \"r={}, alpha={}\".format(r,a)\n"
   ]
  },
  {
   "cell_type": "code",
   "execution_count": 32,
   "metadata": {
    "collapsed": false
   },
   "outputs": [
    {
     "name": "stdout",
     "output_type": "stream",
     "text": [
      "[394.39912415870799, 738.14685750036824]\n"
     ]
    }
   ],
   "source": []
  },
  {
   "cell_type": "code",
   "execution_count": 42,
   "metadata": {
    "collapsed": false
   },
   "outputs": [
    {
     "data": {
      "image/png": "[encoded data removed]",
      "text/plain": [
       "<matplotlib.figure.Figure at 0x10c009310>"
      ]
     },
     "metadata": {},
     "output_type": "display_data"
    }
   ],
   "source": [
    "bounds = [np.array([d[a] for a in d]).min(), np.array([d[a] for a in d]).max()]  \n",
    "\n",
    "for a in [2]:\n",
    "    x = np.array(d[a])\n",
    "    nice_histogram(a, x, bounds)"
   ]
  },
  {
   "cell_type": "code",
   "execution_count": null,
   "metadata": {
    "collapsed": false
   },
   "outputs": [],
   "source": []
  }
 ],
 "metadata": {
  "kernelspec": {
   "display_name": "Python 2",
   "language": "python",
   "name": "python2"
  },
  "language_info": {
   "codemirror_mode": {
    "name": "ipython",
    "version": 2
   },
   "file_extension": ".py",
   "mimetype": "text/x-python",
   "name": "python",
   "nbconvert_exporter": "python",
   "pygments_lexer": "ipython2",
   "version": "2.7.9"
  }
 },
 "nbformat": 4,
 "nbformat_minor": 0
}
